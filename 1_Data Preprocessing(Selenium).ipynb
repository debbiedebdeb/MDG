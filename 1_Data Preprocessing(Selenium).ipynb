{
 "cells": [
  {
   "cell_type": "markdown",
   "id": "6b53b652",
   "metadata": {},
   "source": [
    "# 1. 주민센터 데이터 \n",
    "- 센터 이름(행정동 컬럼도 추출 가능) , 주소(위도, 경도 추출을 위해) "
   ]
  },
  {
   "cell_type": "code",
   "execution_count": 3,
   "id": "a62a4eda",
   "metadata": {},
   "outputs": [],
   "source": [
    "import numpy as np\n",
    "import pandas as pd \n",
    "import os\n",
    "current_path = os.getcwd()\n",
    "\n",
    "pd.set_option('display.max_rows', 5)\n",
    "\n",
    "import matplotlib.pyplot as plt\n",
    "import matplotlib as mpl\n",
    "import seaborn as sns\n",
    "\n",
    "#Crawling \n",
    "import requests \n",
    "from bs4 import BeautifulSoup \n",
    "import bs4\n",
    "import time\n",
    "\n",
    "#Clustering \n",
    "from sklearn.cluster import KMeans \n",
    "from sklearn import metrics \n"
   ]
  },
  {
   "cell_type": "markdown",
   "id": "ad33dd2d",
   "metadata": {},
   "source": [
    "## 데이터 크롤링(셀레니움) - for 주민센터 좌표 "
   ]
  },
  {
   "cell_type": "code",
   "execution_count": 4,
   "id": "944f52d1",
   "metadata": {},
   "outputs": [],
   "source": [
    "from selenium import webdriver\n",
    "from selenium.webdriver.common.keys import Keys\n",
    "from selenium.webdriver.common.by import By"
   ]
  },
  {
   "cell_type": "code",
   "execution_count": 3,
   "id": "12eb3f9b",
   "metadata": {
    "scrolled": true
   },
   "outputs": [
    {
     "name": "stdout",
     "output_type": "stream",
     "text": [
      "Requirement already satisfied: selenium in c:\\users\\debbie\\anaconda3\\lib\\site-packages (3.141.0)\n",
      "Requirement already satisfied: urllib3 in c:\\users\\debbie\\anaconda3\\lib\\site-packages (from selenium) (1.26.7)\n"
     ]
    }
   ],
   "source": [
    "! pip install selenium"
   ]
  },
  {
   "cell_type": "markdown",
   "id": "d017318f",
   "metadata": {},
   "source": [
    "* 크롬드라이버를 이용해 페이지 접속 "
   ]
  },
  {
   "cell_type": "code",
   "execution_count": 4,
   "id": "20a992cb",
   "metadata": {},
   "outputs": [],
   "source": [
    "#chrome창(웹드라이버) 열기 \n",
    "browser = webdriver.Chrome(\"C:\\/chromedriver.exe\") \n",
    "\n",
    "# 홈페이지 접속하기 \n",
    "url = 'https://www.myhome.go.kr/hws/portal/cmt/selectCmtSrvCntrListView.do'\n",
    "browser.get(url) #접속"
   ]
  },
  {
   "cell_type": "code",
   "execution_count": 5,
   "id": "132b09e7",
   "metadata": {},
   "outputs": [],
   "source": [
    "name_ = []\n",
    "address_ = []"
   ]
  },
  {
   "cell_type": "code",
   "execution_count": 6,
   "id": "470aab45",
   "metadata": {},
   "outputs": [
    {
     "name": "stdout",
     "output_type": "stream",
     "text": [
      "청운효자동 주민센터 서울특별시 종로구 자하문로 92\n",
      "사직동 주민센터 서울특별시 종로구 사직로9길 1\n",
      "종로1-4가동 주민센터 서울특별시 종로구 종로17길 8\n",
      "삼청동 주민센터 서울특별시 종로구 삼청로 107\n",
      "가회동 주민센터 서울특별시 종로구 북촌로 35\n",
      "종로5-6가동 주민센터 서울특별시 종로구 종로35가길 19\n",
      "이화동 주민센터 서울특별시 종로구 이화장길 33\n",
      "혜화동 주민센터 서울특별시 종로구 혜화로 12\n",
      "창신1동 주민센터 서울특별시 종로구 지봉로 8-6\n",
      "창신2동 주민센터 서울특별시 종로구 창신길 62\n"
     ]
    }
   ],
   "source": [
    "schTbody = browser.find_element(By.ID, 'schTbody').find_elements(By.TAG_NAME, 'tr')\n",
    "schTbody\n",
    "\n",
    "# 1 page 정보 추출 \n",
    "for tr in schTbody : \n",
    "    td_list = tr.find_elements(By.TAG_NAME, 'td')\n",
    "    num = td_list[0].text\n",
    "    name = td_list[1].text\n",
    "    address = td_list[3].find_element(By.TAG_NAME, 'a').text\n",
    "    print(name, address)"
   ]
  },
  {
   "cell_type": "markdown",
   "id": "e50e724a",
   "metadata": {},
   "source": [
    "* 전체 페이지 정보 긁어오기(단, 424번까지) "
   ]
  },
  {
   "cell_type": "code",
   "execution_count": 7,
   "id": "dfe7e3f3",
   "metadata": {},
   "outputs": [
    {
     "ename": "KeyboardInterrupt",
     "evalue": "",
     "output_type": "error",
     "traceback": [
      "\u001b[1;31m---------------------------------------------------------------------------\u001b[0m",
      "\u001b[1;31mKeyboardInterrupt\u001b[0m                         Traceback (most recent call last)",
      "\u001b[1;32m~\\AppData\\Local\\Temp/ipykernel_8820/152741490.py\u001b[0m in \u001b[0;36m<module>\u001b[1;34m\u001b[0m\n\u001b[0;32m      7\u001b[0m     \u001b[1;32mfor\u001b[0m \u001b[0mtr\u001b[0m \u001b[1;32min\u001b[0m \u001b[0mschTbody\u001b[0m \u001b[1;33m:\u001b[0m\u001b[1;33m\u001b[0m\u001b[1;33m\u001b[0m\u001b[0m\n\u001b[0;32m      8\u001b[0m         \u001b[0mtd_list\u001b[0m \u001b[1;33m=\u001b[0m \u001b[0mtr\u001b[0m\u001b[1;33m.\u001b[0m\u001b[0mfind_elements\u001b[0m\u001b[1;33m(\u001b[0m\u001b[0mBy\u001b[0m\u001b[1;33m.\u001b[0m\u001b[0mTAG_NAME\u001b[0m\u001b[1;33m,\u001b[0m \u001b[1;34m'td'\u001b[0m\u001b[1;33m)\u001b[0m\u001b[1;33m\u001b[0m\u001b[1;33m\u001b[0m\u001b[0m\n\u001b[1;32m----> 9\u001b[1;33m         \u001b[0mname\u001b[0m \u001b[1;33m=\u001b[0m \u001b[0mtd_list\u001b[0m\u001b[1;33m[\u001b[0m\u001b[1;36m1\u001b[0m\u001b[1;33m]\u001b[0m\u001b[1;33m.\u001b[0m\u001b[0mtext\u001b[0m\u001b[1;33m\u001b[0m\u001b[1;33m\u001b[0m\u001b[0m\n\u001b[0m\u001b[0;32m     10\u001b[0m         \u001b[0maddress\u001b[0m \u001b[1;33m=\u001b[0m \u001b[0mtd_list\u001b[0m\u001b[1;33m[\u001b[0m\u001b[1;36m3\u001b[0m\u001b[1;33m]\u001b[0m\u001b[1;33m.\u001b[0m\u001b[0mfind_element\u001b[0m\u001b[1;33m(\u001b[0m\u001b[0mBy\u001b[0m\u001b[1;33m.\u001b[0m\u001b[0mTAG_NAME\u001b[0m\u001b[1;33m,\u001b[0m \u001b[1;34m'a'\u001b[0m\u001b[1;33m)\u001b[0m\u001b[1;33m.\u001b[0m\u001b[0mtext\u001b[0m\u001b[1;33m\u001b[0m\u001b[1;33m\u001b[0m\u001b[0m\n\u001b[0;32m     11\u001b[0m         \u001b[0mname_\u001b[0m\u001b[1;33m.\u001b[0m\u001b[0mappend\u001b[0m\u001b[1;33m(\u001b[0m\u001b[0mname\u001b[0m\u001b[1;33m)\u001b[0m\u001b[1;33m\u001b[0m\u001b[1;33m\u001b[0m\u001b[0m\n",
      "\u001b[1;32m~\\anaconda3\\lib\\site-packages\\selenium\\webdriver\\remote\\webelement.py\u001b[0m in \u001b[0;36mtext\u001b[1;34m(self)\u001b[0m\n\u001b[0;32m     74\u001b[0m     \u001b[1;32mdef\u001b[0m \u001b[0mtext\u001b[0m\u001b[1;33m(\u001b[0m\u001b[0mself\u001b[0m\u001b[1;33m)\u001b[0m\u001b[1;33m:\u001b[0m\u001b[1;33m\u001b[0m\u001b[1;33m\u001b[0m\u001b[0m\n\u001b[0;32m     75\u001b[0m         \u001b[1;34m\"\"\"The text of the element.\"\"\"\u001b[0m\u001b[1;33m\u001b[0m\u001b[1;33m\u001b[0m\u001b[0m\n\u001b[1;32m---> 76\u001b[1;33m         \u001b[1;32mreturn\u001b[0m \u001b[0mself\u001b[0m\u001b[1;33m.\u001b[0m\u001b[0m_execute\u001b[0m\u001b[1;33m(\u001b[0m\u001b[0mCommand\u001b[0m\u001b[1;33m.\u001b[0m\u001b[0mGET_ELEMENT_TEXT\u001b[0m\u001b[1;33m)\u001b[0m\u001b[1;33m[\u001b[0m\u001b[1;34m'value'\u001b[0m\u001b[1;33m]\u001b[0m\u001b[1;33m\u001b[0m\u001b[1;33m\u001b[0m\u001b[0m\n\u001b[0m\u001b[0;32m     77\u001b[0m \u001b[1;33m\u001b[0m\u001b[0m\n\u001b[0;32m     78\u001b[0m     \u001b[1;32mdef\u001b[0m \u001b[0mclick\u001b[0m\u001b[1;33m(\u001b[0m\u001b[0mself\u001b[0m\u001b[1;33m)\u001b[0m\u001b[1;33m:\u001b[0m\u001b[1;33m\u001b[0m\u001b[1;33m\u001b[0m\u001b[0m\n",
      "\u001b[1;32m~\\anaconda3\\lib\\site-packages\\selenium\\webdriver\\remote\\webelement.py\u001b[0m in \u001b[0;36m_execute\u001b[1;34m(self, command, params)\u001b[0m\n\u001b[0;32m    631\u001b[0m             \u001b[0mparams\u001b[0m \u001b[1;33m=\u001b[0m \u001b[1;33m{\u001b[0m\u001b[1;33m}\u001b[0m\u001b[1;33m\u001b[0m\u001b[1;33m\u001b[0m\u001b[0m\n\u001b[0;32m    632\u001b[0m         \u001b[0mparams\u001b[0m\u001b[1;33m[\u001b[0m\u001b[1;34m'id'\u001b[0m\u001b[1;33m]\u001b[0m \u001b[1;33m=\u001b[0m \u001b[0mself\u001b[0m\u001b[1;33m.\u001b[0m\u001b[0m_id\u001b[0m\u001b[1;33m\u001b[0m\u001b[1;33m\u001b[0m\u001b[0m\n\u001b[1;32m--> 633\u001b[1;33m         \u001b[1;32mreturn\u001b[0m \u001b[0mself\u001b[0m\u001b[1;33m.\u001b[0m\u001b[0m_parent\u001b[0m\u001b[1;33m.\u001b[0m\u001b[0mexecute\u001b[0m\u001b[1;33m(\u001b[0m\u001b[0mcommand\u001b[0m\u001b[1;33m,\u001b[0m \u001b[0mparams\u001b[0m\u001b[1;33m)\u001b[0m\u001b[1;33m\u001b[0m\u001b[1;33m\u001b[0m\u001b[0m\n\u001b[0m\u001b[0;32m    634\u001b[0m \u001b[1;33m\u001b[0m\u001b[0m\n\u001b[0;32m    635\u001b[0m     \u001b[1;32mdef\u001b[0m \u001b[0mfind_element\u001b[0m\u001b[1;33m(\u001b[0m\u001b[0mself\u001b[0m\u001b[1;33m,\u001b[0m \u001b[0mby\u001b[0m\u001b[1;33m=\u001b[0m\u001b[0mBy\u001b[0m\u001b[1;33m.\u001b[0m\u001b[0mID\u001b[0m\u001b[1;33m,\u001b[0m \u001b[0mvalue\u001b[0m\u001b[1;33m=\u001b[0m\u001b[1;32mNone\u001b[0m\u001b[1;33m)\u001b[0m\u001b[1;33m:\u001b[0m\u001b[1;33m\u001b[0m\u001b[1;33m\u001b[0m\u001b[0m\n",
      "\u001b[1;32m~\\anaconda3\\lib\\site-packages\\selenium\\webdriver\\remote\\webdriver.py\u001b[0m in \u001b[0;36mexecute\u001b[1;34m(self, driver_command, params)\u001b[0m\n\u001b[0;32m    317\u001b[0m \u001b[1;33m\u001b[0m\u001b[0m\n\u001b[0;32m    318\u001b[0m         \u001b[0mparams\u001b[0m \u001b[1;33m=\u001b[0m \u001b[0mself\u001b[0m\u001b[1;33m.\u001b[0m\u001b[0m_wrap_value\u001b[0m\u001b[1;33m(\u001b[0m\u001b[0mparams\u001b[0m\u001b[1;33m)\u001b[0m\u001b[1;33m\u001b[0m\u001b[1;33m\u001b[0m\u001b[0m\n\u001b[1;32m--> 319\u001b[1;33m         \u001b[0mresponse\u001b[0m \u001b[1;33m=\u001b[0m \u001b[0mself\u001b[0m\u001b[1;33m.\u001b[0m\u001b[0mcommand_executor\u001b[0m\u001b[1;33m.\u001b[0m\u001b[0mexecute\u001b[0m\u001b[1;33m(\u001b[0m\u001b[0mdriver_command\u001b[0m\u001b[1;33m,\u001b[0m \u001b[0mparams\u001b[0m\u001b[1;33m)\u001b[0m\u001b[1;33m\u001b[0m\u001b[1;33m\u001b[0m\u001b[0m\n\u001b[0m\u001b[0;32m    320\u001b[0m         \u001b[1;32mif\u001b[0m \u001b[0mresponse\u001b[0m\u001b[1;33m:\u001b[0m\u001b[1;33m\u001b[0m\u001b[1;33m\u001b[0m\u001b[0m\n\u001b[0;32m    321\u001b[0m             \u001b[0mself\u001b[0m\u001b[1;33m.\u001b[0m\u001b[0merror_handler\u001b[0m\u001b[1;33m.\u001b[0m\u001b[0mcheck_response\u001b[0m\u001b[1;33m(\u001b[0m\u001b[0mresponse\u001b[0m\u001b[1;33m)\u001b[0m\u001b[1;33m\u001b[0m\u001b[1;33m\u001b[0m\u001b[0m\n",
      "\u001b[1;32m~\\anaconda3\\lib\\site-packages\\selenium\\webdriver\\remote\\remote_connection.py\u001b[0m in \u001b[0;36mexecute\u001b[1;34m(self, command, params)\u001b[0m\n\u001b[0;32m    372\u001b[0m         \u001b[0mdata\u001b[0m \u001b[1;33m=\u001b[0m \u001b[0mutils\u001b[0m\u001b[1;33m.\u001b[0m\u001b[0mdump_json\u001b[0m\u001b[1;33m(\u001b[0m\u001b[0mparams\u001b[0m\u001b[1;33m)\u001b[0m\u001b[1;33m\u001b[0m\u001b[1;33m\u001b[0m\u001b[0m\n\u001b[0;32m    373\u001b[0m         \u001b[0murl\u001b[0m \u001b[1;33m=\u001b[0m \u001b[1;34m'%s%s'\u001b[0m \u001b[1;33m%\u001b[0m \u001b[1;33m(\u001b[0m\u001b[0mself\u001b[0m\u001b[1;33m.\u001b[0m\u001b[0m_url\u001b[0m\u001b[1;33m,\u001b[0m \u001b[0mpath\u001b[0m\u001b[1;33m)\u001b[0m\u001b[1;33m\u001b[0m\u001b[1;33m\u001b[0m\u001b[0m\n\u001b[1;32m--> 374\u001b[1;33m         \u001b[1;32mreturn\u001b[0m \u001b[0mself\u001b[0m\u001b[1;33m.\u001b[0m\u001b[0m_request\u001b[0m\u001b[1;33m(\u001b[0m\u001b[0mcommand_info\u001b[0m\u001b[1;33m[\u001b[0m\u001b[1;36m0\u001b[0m\u001b[1;33m]\u001b[0m\u001b[1;33m,\u001b[0m \u001b[0murl\u001b[0m\u001b[1;33m,\u001b[0m \u001b[0mbody\u001b[0m\u001b[1;33m=\u001b[0m\u001b[0mdata\u001b[0m\u001b[1;33m)\u001b[0m\u001b[1;33m\u001b[0m\u001b[1;33m\u001b[0m\u001b[0m\n\u001b[0m\u001b[0;32m    375\u001b[0m \u001b[1;33m\u001b[0m\u001b[0m\n\u001b[0;32m    376\u001b[0m     \u001b[1;32mdef\u001b[0m \u001b[0m_request\u001b[0m\u001b[1;33m(\u001b[0m\u001b[0mself\u001b[0m\u001b[1;33m,\u001b[0m \u001b[0mmethod\u001b[0m\u001b[1;33m,\u001b[0m \u001b[0murl\u001b[0m\u001b[1;33m,\u001b[0m \u001b[0mbody\u001b[0m\u001b[1;33m=\u001b[0m\u001b[1;32mNone\u001b[0m\u001b[1;33m)\u001b[0m\u001b[1;33m:\u001b[0m\u001b[1;33m\u001b[0m\u001b[1;33m\u001b[0m\u001b[0m\n",
      "\u001b[1;32m~\\anaconda3\\lib\\site-packages\\selenium\\webdriver\\remote\\remote_connection.py\u001b[0m in \u001b[0;36m_request\u001b[1;34m(self, method, url, body)\u001b[0m\n\u001b[0;32m    395\u001b[0m \u001b[1;33m\u001b[0m\u001b[0m\n\u001b[0;32m    396\u001b[0m         \u001b[1;32mif\u001b[0m \u001b[0mself\u001b[0m\u001b[1;33m.\u001b[0m\u001b[0mkeep_alive\u001b[0m\u001b[1;33m:\u001b[0m\u001b[1;33m\u001b[0m\u001b[1;33m\u001b[0m\u001b[0m\n\u001b[1;32m--> 397\u001b[1;33m             \u001b[0mresp\u001b[0m \u001b[1;33m=\u001b[0m \u001b[0mself\u001b[0m\u001b[1;33m.\u001b[0m\u001b[0m_conn\u001b[0m\u001b[1;33m.\u001b[0m\u001b[0mrequest\u001b[0m\u001b[1;33m(\u001b[0m\u001b[0mmethod\u001b[0m\u001b[1;33m,\u001b[0m \u001b[0murl\u001b[0m\u001b[1;33m,\u001b[0m \u001b[0mbody\u001b[0m\u001b[1;33m=\u001b[0m\u001b[0mbody\u001b[0m\u001b[1;33m,\u001b[0m \u001b[0mheaders\u001b[0m\u001b[1;33m=\u001b[0m\u001b[0mheaders\u001b[0m\u001b[1;33m)\u001b[0m\u001b[1;33m\u001b[0m\u001b[1;33m\u001b[0m\u001b[0m\n\u001b[0m\u001b[0;32m    398\u001b[0m \u001b[1;33m\u001b[0m\u001b[0m\n\u001b[0;32m    399\u001b[0m             \u001b[0mstatuscode\u001b[0m \u001b[1;33m=\u001b[0m \u001b[0mresp\u001b[0m\u001b[1;33m.\u001b[0m\u001b[0mstatus\u001b[0m\u001b[1;33m\u001b[0m\u001b[1;33m\u001b[0m\u001b[0m\n",
      "\u001b[1;32m~\\anaconda3\\lib\\site-packages\\urllib3\\request.py\u001b[0m in \u001b[0;36mrequest\u001b[1;34m(self, method, url, fields, headers, **urlopen_kw)\u001b[0m\n\u001b[0;32m     72\u001b[0m \u001b[1;33m\u001b[0m\u001b[0m\n\u001b[0;32m     73\u001b[0m         \u001b[1;32mif\u001b[0m \u001b[0mmethod\u001b[0m \u001b[1;32min\u001b[0m \u001b[0mself\u001b[0m\u001b[1;33m.\u001b[0m\u001b[0m_encode_url_methods\u001b[0m\u001b[1;33m:\u001b[0m\u001b[1;33m\u001b[0m\u001b[1;33m\u001b[0m\u001b[0m\n\u001b[1;32m---> 74\u001b[1;33m             return self.request_encode_url(\n\u001b[0m\u001b[0;32m     75\u001b[0m                 \u001b[0mmethod\u001b[0m\u001b[1;33m,\u001b[0m \u001b[0murl\u001b[0m\u001b[1;33m,\u001b[0m \u001b[0mfields\u001b[0m\u001b[1;33m=\u001b[0m\u001b[0mfields\u001b[0m\u001b[1;33m,\u001b[0m \u001b[0mheaders\u001b[0m\u001b[1;33m=\u001b[0m\u001b[0mheaders\u001b[0m\u001b[1;33m,\u001b[0m \u001b[1;33m**\u001b[0m\u001b[0murlopen_kw\u001b[0m\u001b[1;33m\u001b[0m\u001b[1;33m\u001b[0m\u001b[0m\n\u001b[0;32m     76\u001b[0m             )\n",
      "\u001b[1;32m~\\anaconda3\\lib\\site-packages\\urllib3\\request.py\u001b[0m in \u001b[0;36mrequest_encode_url\u001b[1;34m(self, method, url, fields, headers, **urlopen_kw)\u001b[0m\n\u001b[0;32m     94\u001b[0m             \u001b[0murl\u001b[0m \u001b[1;33m+=\u001b[0m \u001b[1;34m\"?\"\u001b[0m \u001b[1;33m+\u001b[0m \u001b[0murlencode\u001b[0m\u001b[1;33m(\u001b[0m\u001b[0mfields\u001b[0m\u001b[1;33m)\u001b[0m\u001b[1;33m\u001b[0m\u001b[1;33m\u001b[0m\u001b[0m\n\u001b[0;32m     95\u001b[0m \u001b[1;33m\u001b[0m\u001b[0m\n\u001b[1;32m---> 96\u001b[1;33m         \u001b[1;32mreturn\u001b[0m \u001b[0mself\u001b[0m\u001b[1;33m.\u001b[0m\u001b[0murlopen\u001b[0m\u001b[1;33m(\u001b[0m\u001b[0mmethod\u001b[0m\u001b[1;33m,\u001b[0m \u001b[0murl\u001b[0m\u001b[1;33m,\u001b[0m \u001b[1;33m**\u001b[0m\u001b[0mextra_kw\u001b[0m\u001b[1;33m)\u001b[0m\u001b[1;33m\u001b[0m\u001b[1;33m\u001b[0m\u001b[0m\n\u001b[0m\u001b[0;32m     97\u001b[0m \u001b[1;33m\u001b[0m\u001b[0m\n\u001b[0;32m     98\u001b[0m     def request_encode_body(\n",
      "\u001b[1;32m~\\anaconda3\\lib\\site-packages\\urllib3\\poolmanager.py\u001b[0m in \u001b[0;36murlopen\u001b[1;34m(self, method, url, redirect, **kw)\u001b[0m\n\u001b[0;32m    373\u001b[0m             \u001b[0mresponse\u001b[0m \u001b[1;33m=\u001b[0m \u001b[0mconn\u001b[0m\u001b[1;33m.\u001b[0m\u001b[0murlopen\u001b[0m\u001b[1;33m(\u001b[0m\u001b[0mmethod\u001b[0m\u001b[1;33m,\u001b[0m \u001b[0murl\u001b[0m\u001b[1;33m,\u001b[0m \u001b[1;33m**\u001b[0m\u001b[0mkw\u001b[0m\u001b[1;33m)\u001b[0m\u001b[1;33m\u001b[0m\u001b[1;33m\u001b[0m\u001b[0m\n\u001b[0;32m    374\u001b[0m         \u001b[1;32melse\u001b[0m\u001b[1;33m:\u001b[0m\u001b[1;33m\u001b[0m\u001b[1;33m\u001b[0m\u001b[0m\n\u001b[1;32m--> 375\u001b[1;33m             \u001b[0mresponse\u001b[0m \u001b[1;33m=\u001b[0m \u001b[0mconn\u001b[0m\u001b[1;33m.\u001b[0m\u001b[0murlopen\u001b[0m\u001b[1;33m(\u001b[0m\u001b[0mmethod\u001b[0m\u001b[1;33m,\u001b[0m \u001b[0mu\u001b[0m\u001b[1;33m.\u001b[0m\u001b[0mrequest_uri\u001b[0m\u001b[1;33m,\u001b[0m \u001b[1;33m**\u001b[0m\u001b[0mkw\u001b[0m\u001b[1;33m)\u001b[0m\u001b[1;33m\u001b[0m\u001b[1;33m\u001b[0m\u001b[0m\n\u001b[0m\u001b[0;32m    376\u001b[0m \u001b[1;33m\u001b[0m\u001b[0m\n\u001b[0;32m    377\u001b[0m         \u001b[0mredirect_location\u001b[0m \u001b[1;33m=\u001b[0m \u001b[0mredirect\u001b[0m \u001b[1;32mand\u001b[0m \u001b[0mresponse\u001b[0m\u001b[1;33m.\u001b[0m\u001b[0mget_redirect_location\u001b[0m\u001b[1;33m(\u001b[0m\u001b[1;33m)\u001b[0m\u001b[1;33m\u001b[0m\u001b[1;33m\u001b[0m\u001b[0m\n",
      "\u001b[1;32m~\\anaconda3\\lib\\site-packages\\urllib3\\connectionpool.py\u001b[0m in \u001b[0;36murlopen\u001b[1;34m(self, method, url, body, headers, retries, redirect, assert_same_host, timeout, pool_timeout, release_conn, chunked, body_pos, **response_kw)\u001b[0m\n\u001b[0;32m    697\u001b[0m \u001b[1;33m\u001b[0m\u001b[0m\n\u001b[0;32m    698\u001b[0m             \u001b[1;31m# Make the request on the httplib connection object.\u001b[0m\u001b[1;33m\u001b[0m\u001b[1;33m\u001b[0m\u001b[0m\n\u001b[1;32m--> 699\u001b[1;33m             httplib_response = self._make_request(\n\u001b[0m\u001b[0;32m    700\u001b[0m                 \u001b[0mconn\u001b[0m\u001b[1;33m,\u001b[0m\u001b[1;33m\u001b[0m\u001b[1;33m\u001b[0m\u001b[0m\n\u001b[0;32m    701\u001b[0m                 \u001b[0mmethod\u001b[0m\u001b[1;33m,\u001b[0m\u001b[1;33m\u001b[0m\u001b[1;33m\u001b[0m\u001b[0m\n",
      "\u001b[1;32m~\\anaconda3\\lib\\site-packages\\urllib3\\connectionpool.py\u001b[0m in \u001b[0;36m_make_request\u001b[1;34m(self, conn, method, url, timeout, chunked, **httplib_request_kw)\u001b[0m\n\u001b[0;32m    443\u001b[0m                     \u001b[1;31m# Python 3 (including for exceptions like SystemExit).\u001b[0m\u001b[1;33m\u001b[0m\u001b[1;33m\u001b[0m\u001b[0m\n\u001b[0;32m    444\u001b[0m                     \u001b[1;31m# Otherwise it looks like a bug in the code.\u001b[0m\u001b[1;33m\u001b[0m\u001b[1;33m\u001b[0m\u001b[0m\n\u001b[1;32m--> 445\u001b[1;33m                     \u001b[0msix\u001b[0m\u001b[1;33m.\u001b[0m\u001b[0mraise_from\u001b[0m\u001b[1;33m(\u001b[0m\u001b[0me\u001b[0m\u001b[1;33m,\u001b[0m \u001b[1;32mNone\u001b[0m\u001b[1;33m)\u001b[0m\u001b[1;33m\u001b[0m\u001b[1;33m\u001b[0m\u001b[0m\n\u001b[0m\u001b[0;32m    446\u001b[0m         \u001b[1;32mexcept\u001b[0m \u001b[1;33m(\u001b[0m\u001b[0mSocketTimeout\u001b[0m\u001b[1;33m,\u001b[0m \u001b[0mBaseSSLError\u001b[0m\u001b[1;33m,\u001b[0m \u001b[0mSocketError\u001b[0m\u001b[1;33m)\u001b[0m \u001b[1;32mas\u001b[0m \u001b[0me\u001b[0m\u001b[1;33m:\u001b[0m\u001b[1;33m\u001b[0m\u001b[1;33m\u001b[0m\u001b[0m\n\u001b[0;32m    447\u001b[0m             \u001b[0mself\u001b[0m\u001b[1;33m.\u001b[0m\u001b[0m_raise_timeout\u001b[0m\u001b[1;33m(\u001b[0m\u001b[0merr\u001b[0m\u001b[1;33m=\u001b[0m\u001b[0me\u001b[0m\u001b[1;33m,\u001b[0m \u001b[0murl\u001b[0m\u001b[1;33m=\u001b[0m\u001b[0murl\u001b[0m\u001b[1;33m,\u001b[0m \u001b[0mtimeout_value\u001b[0m\u001b[1;33m=\u001b[0m\u001b[0mread_timeout\u001b[0m\u001b[1;33m)\u001b[0m\u001b[1;33m\u001b[0m\u001b[1;33m\u001b[0m\u001b[0m\n",
      "\u001b[1;32m~\\anaconda3\\lib\\site-packages\\urllib3\\packages\\six.py\u001b[0m in \u001b[0;36mraise_from\u001b[1;34m(value, from_value)\u001b[0m\n",
      "\u001b[1;32m~\\anaconda3\\lib\\site-packages\\urllib3\\connectionpool.py\u001b[0m in \u001b[0;36m_make_request\u001b[1;34m(self, conn, method, url, timeout, chunked, **httplib_request_kw)\u001b[0m\n\u001b[0;32m    438\u001b[0m                 \u001b[1;31m# Python 3\u001b[0m\u001b[1;33m\u001b[0m\u001b[1;33m\u001b[0m\u001b[0m\n\u001b[0;32m    439\u001b[0m                 \u001b[1;32mtry\u001b[0m\u001b[1;33m:\u001b[0m\u001b[1;33m\u001b[0m\u001b[1;33m\u001b[0m\u001b[0m\n\u001b[1;32m--> 440\u001b[1;33m                     \u001b[0mhttplib_response\u001b[0m \u001b[1;33m=\u001b[0m \u001b[0mconn\u001b[0m\u001b[1;33m.\u001b[0m\u001b[0mgetresponse\u001b[0m\u001b[1;33m(\u001b[0m\u001b[1;33m)\u001b[0m\u001b[1;33m\u001b[0m\u001b[1;33m\u001b[0m\u001b[0m\n\u001b[0m\u001b[0;32m    441\u001b[0m                 \u001b[1;32mexcept\u001b[0m \u001b[0mBaseException\u001b[0m \u001b[1;32mas\u001b[0m \u001b[0me\u001b[0m\u001b[1;33m:\u001b[0m\u001b[1;33m\u001b[0m\u001b[1;33m\u001b[0m\u001b[0m\n\u001b[0;32m    442\u001b[0m                     \u001b[1;31m# Remove the TypeError from the exception chain in\u001b[0m\u001b[1;33m\u001b[0m\u001b[1;33m\u001b[0m\u001b[0m\n",
      "\u001b[1;32m~\\anaconda3\\lib\\http\\client.py\u001b[0m in \u001b[0;36mgetresponse\u001b[1;34m(self)\u001b[0m\n\u001b[0;32m   1369\u001b[0m         \u001b[1;32mtry\u001b[0m\u001b[1;33m:\u001b[0m\u001b[1;33m\u001b[0m\u001b[1;33m\u001b[0m\u001b[0m\n\u001b[0;32m   1370\u001b[0m             \u001b[1;32mtry\u001b[0m\u001b[1;33m:\u001b[0m\u001b[1;33m\u001b[0m\u001b[1;33m\u001b[0m\u001b[0m\n\u001b[1;32m-> 1371\u001b[1;33m                 \u001b[0mresponse\u001b[0m\u001b[1;33m.\u001b[0m\u001b[0mbegin\u001b[0m\u001b[1;33m(\u001b[0m\u001b[1;33m)\u001b[0m\u001b[1;33m\u001b[0m\u001b[1;33m\u001b[0m\u001b[0m\n\u001b[0m\u001b[0;32m   1372\u001b[0m             \u001b[1;32mexcept\u001b[0m \u001b[0mConnectionError\u001b[0m\u001b[1;33m:\u001b[0m\u001b[1;33m\u001b[0m\u001b[1;33m\u001b[0m\u001b[0m\n\u001b[0;32m   1373\u001b[0m                 \u001b[0mself\u001b[0m\u001b[1;33m.\u001b[0m\u001b[0mclose\u001b[0m\u001b[1;33m(\u001b[0m\u001b[1;33m)\u001b[0m\u001b[1;33m\u001b[0m\u001b[1;33m\u001b[0m\u001b[0m\n",
      "\u001b[1;32m~\\anaconda3\\lib\\http\\client.py\u001b[0m in \u001b[0;36mbegin\u001b[1;34m(self)\u001b[0m\n\u001b[0;32m    317\u001b[0m         \u001b[1;31m# read until we get a non-100 response\u001b[0m\u001b[1;33m\u001b[0m\u001b[1;33m\u001b[0m\u001b[0m\n\u001b[0;32m    318\u001b[0m         \u001b[1;32mwhile\u001b[0m \u001b[1;32mTrue\u001b[0m\u001b[1;33m:\u001b[0m\u001b[1;33m\u001b[0m\u001b[1;33m\u001b[0m\u001b[0m\n\u001b[1;32m--> 319\u001b[1;33m             \u001b[0mversion\u001b[0m\u001b[1;33m,\u001b[0m \u001b[0mstatus\u001b[0m\u001b[1;33m,\u001b[0m \u001b[0mreason\u001b[0m \u001b[1;33m=\u001b[0m \u001b[0mself\u001b[0m\u001b[1;33m.\u001b[0m\u001b[0m_read_status\u001b[0m\u001b[1;33m(\u001b[0m\u001b[1;33m)\u001b[0m\u001b[1;33m\u001b[0m\u001b[1;33m\u001b[0m\u001b[0m\n\u001b[0m\u001b[0;32m    320\u001b[0m             \u001b[1;32mif\u001b[0m \u001b[0mstatus\u001b[0m \u001b[1;33m!=\u001b[0m \u001b[0mCONTINUE\u001b[0m\u001b[1;33m:\u001b[0m\u001b[1;33m\u001b[0m\u001b[1;33m\u001b[0m\u001b[0m\n\u001b[0;32m    321\u001b[0m                 \u001b[1;32mbreak\u001b[0m\u001b[1;33m\u001b[0m\u001b[1;33m\u001b[0m\u001b[0m\n",
      "\u001b[1;32m~\\anaconda3\\lib\\http\\client.py\u001b[0m in \u001b[0;36m_read_status\u001b[1;34m(self)\u001b[0m\n\u001b[0;32m    278\u001b[0m \u001b[1;33m\u001b[0m\u001b[0m\n\u001b[0;32m    279\u001b[0m     \u001b[1;32mdef\u001b[0m \u001b[0m_read_status\u001b[0m\u001b[1;33m(\u001b[0m\u001b[0mself\u001b[0m\u001b[1;33m)\u001b[0m\u001b[1;33m:\u001b[0m\u001b[1;33m\u001b[0m\u001b[1;33m\u001b[0m\u001b[0m\n\u001b[1;32m--> 280\u001b[1;33m         \u001b[0mline\u001b[0m \u001b[1;33m=\u001b[0m \u001b[0mstr\u001b[0m\u001b[1;33m(\u001b[0m\u001b[0mself\u001b[0m\u001b[1;33m.\u001b[0m\u001b[0mfp\u001b[0m\u001b[1;33m.\u001b[0m\u001b[0mreadline\u001b[0m\u001b[1;33m(\u001b[0m\u001b[0m_MAXLINE\u001b[0m \u001b[1;33m+\u001b[0m \u001b[1;36m1\u001b[0m\u001b[1;33m)\u001b[0m\u001b[1;33m,\u001b[0m \u001b[1;34m\"iso-8859-1\"\u001b[0m\u001b[1;33m)\u001b[0m\u001b[1;33m\u001b[0m\u001b[1;33m\u001b[0m\u001b[0m\n\u001b[0m\u001b[0;32m    281\u001b[0m         \u001b[1;32mif\u001b[0m \u001b[0mlen\u001b[0m\u001b[1;33m(\u001b[0m\u001b[0mline\u001b[0m\u001b[1;33m)\u001b[0m \u001b[1;33m>\u001b[0m \u001b[0m_MAXLINE\u001b[0m\u001b[1;33m:\u001b[0m\u001b[1;33m\u001b[0m\u001b[1;33m\u001b[0m\u001b[0m\n\u001b[0;32m    282\u001b[0m             \u001b[1;32mraise\u001b[0m \u001b[0mLineTooLong\u001b[0m\u001b[1;33m(\u001b[0m\u001b[1;34m\"status line\"\u001b[0m\u001b[1;33m)\u001b[0m\u001b[1;33m\u001b[0m\u001b[1;33m\u001b[0m\u001b[0m\n",
      "\u001b[1;32m~\\anaconda3\\lib\\socket.py\u001b[0m in \u001b[0;36mreadinto\u001b[1;34m(self, b)\u001b[0m\n\u001b[0;32m    702\u001b[0m         \u001b[1;32mwhile\u001b[0m \u001b[1;32mTrue\u001b[0m\u001b[1;33m:\u001b[0m\u001b[1;33m\u001b[0m\u001b[1;33m\u001b[0m\u001b[0m\n\u001b[0;32m    703\u001b[0m             \u001b[1;32mtry\u001b[0m\u001b[1;33m:\u001b[0m\u001b[1;33m\u001b[0m\u001b[1;33m\u001b[0m\u001b[0m\n\u001b[1;32m--> 704\u001b[1;33m                 \u001b[1;32mreturn\u001b[0m \u001b[0mself\u001b[0m\u001b[1;33m.\u001b[0m\u001b[0m_sock\u001b[0m\u001b[1;33m.\u001b[0m\u001b[0mrecv_into\u001b[0m\u001b[1;33m(\u001b[0m\u001b[0mb\u001b[0m\u001b[1;33m)\u001b[0m\u001b[1;33m\u001b[0m\u001b[1;33m\u001b[0m\u001b[0m\n\u001b[0m\u001b[0;32m    705\u001b[0m             \u001b[1;32mexcept\u001b[0m \u001b[0mtimeout\u001b[0m\u001b[1;33m:\u001b[0m\u001b[1;33m\u001b[0m\u001b[1;33m\u001b[0m\u001b[0m\n\u001b[0;32m    706\u001b[0m                 \u001b[0mself\u001b[0m\u001b[1;33m.\u001b[0m\u001b[0m_timeout_occurred\u001b[0m \u001b[1;33m=\u001b[0m \u001b[1;32mTrue\u001b[0m\u001b[1;33m\u001b[0m\u001b[1;33m\u001b[0m\u001b[0m\n",
      "\u001b[1;31mKeyboardInterrupt\u001b[0m: "
     ]
    }
   ],
   "source": [
    "name_ = []\n",
    "address_ = []\n",
    "\n",
    "schTbody = browser.find_element(By.ID, 'schTbody').find_elements(By.TAG_NAME, 'tr')\n",
    "page = 1\n",
    "while 1 != 0: #계속 돌리기 위함 \n",
    "    for tr in schTbody : \n",
    "        td_list = tr.find_elements(By.TAG_NAME, 'td')\n",
    "        name = td_list[1].text\n",
    "        address = td_list[3].find_element(By.TAG_NAME, 'a').text\n",
    "        name_.append(name)\n",
    "        address_.append(address)\n",
    "        if td_list[0].text == 425 :\n",
    "            break\n",
    "    page +=10\n",
    "    browser.execute_script(f'javascript:fnCmtSrvvCntrList(\"{page}\")') # \"다음\"page 클릭을 위한 코드\n",
    "    time.sleep(1)\n",
    "    schTbody = browser.find_element(By.ID, 'schTbody').find_elements(By.TAG_NAME, 'tr')\n",
    "\n",
    "\n",
    "print(len(name_))\n",
    "#  driver.execute_script 함수 (자바스크립트로 아이디, 패스워드를 넘겨주는 형태)"
   ]
  },
  {
   "cell_type": "markdown",
   "id": "4ac1861d",
   "metadata": {},
   "source": [
    "* 흐음..전체 지역에서 424번까지 돌릴려했으나... ^^ 결국 실패.\n",
    "* Plan B를 선택 (지역을 \"서울\"로 한정지은 다음 정보 가져오기) "
   ]
  },
  {
   "cell_type": "code",
   "execution_count": 22,
   "id": "17c5a5ca",
   "metadata": {},
   "outputs": [],
   "source": [
    "# 지역선택 박스 클릭\n",
    "local = browser.find_element(By.ID, 'srcBrtCd')\n",
    "local.click()\n",
    "\n",
    "#서울지역 클릭하기 \n",
    "option = local.find_elements(By.CSS_SELECTOR, 'option')\n",
    "option[1].click() #서울클릭"
   ]
  },
  {
   "cell_type": "code",
   "execution_count": 23,
   "id": "7fd2add4",
   "metadata": {},
   "outputs": [
    {
     "name": "stdout",
     "output_type": "stream",
     "text": [
      "424\n"
     ]
    }
   ],
   "source": [
    "name_ = []\n",
    "address_ = []\n",
    "\n",
    "schTbody = browser.find_element(By.ID, 'schTbody').find_elements(By.TAG_NAME, 'tr')\n",
    "page = 1\n",
    "while len(schTbody) != 0:\n",
    "    for tr in schTbody : \n",
    "        td_list = tr.find_elements(By.TAG_NAME, 'td')\n",
    "        name = td_list[1].text\n",
    "        address = td_list[3].find_element(By.TAG_NAME, 'a').text\n",
    "        name_.append(name)\n",
    "        address_.append(address)\n",
    "\n",
    "    page +=1 #page 카운트 \n",
    "    browser.execute_script(f'javascript:fnCmtSrvvCntrList(\"{page}\")') # 다음페이지 클릭\n",
    "    time.sleep(1)\n",
    "    schTbody = browser.find_element(By.ID, 'schTbody').find_elements(By.TAG_NAME, 'tr') #테이블 업뎃\n",
    "\n",
    "\n",
    "print(len(name_))\n",
    "#  driver.execute_script 함수 (자바스크립트로 아이디, 패스워드를 넘겨주는 형태)"
   ]
  },
  {
   "cell_type": "code",
   "execution_count": 24,
   "id": "2bc56b2b",
   "metadata": {},
   "outputs": [
    {
     "data": {
      "text/html": [
       "<div>\n",
       "<style scoped>\n",
       "    .dataframe tbody tr th:only-of-type {\n",
       "        vertical-align: middle;\n",
       "    }\n",
       "\n",
       "    .dataframe tbody tr th {\n",
       "        vertical-align: top;\n",
       "    }\n",
       "\n",
       "    .dataframe thead th {\n",
       "        text-align: right;\n",
       "    }\n",
       "</style>\n",
       "<table border=\"1\" class=\"dataframe\">\n",
       "  <thead>\n",
       "    <tr style=\"text-align: right;\">\n",
       "      <th></th>\n",
       "      <th>주민센터명</th>\n",
       "      <th>주소</th>\n",
       "    </tr>\n",
       "  </thead>\n",
       "  <tbody>\n",
       "    <tr>\n",
       "      <th>0</th>\n",
       "      <td>청운효자동 주민센터</td>\n",
       "      <td>서울특별시 종로구 자하문로 92</td>\n",
       "    </tr>\n",
       "    <tr>\n",
       "      <th>1</th>\n",
       "      <td>사직동 주민센터</td>\n",
       "      <td>서울특별시 종로구 사직로9길 1</td>\n",
       "    </tr>\n",
       "    <tr>\n",
       "      <th>...</th>\n",
       "      <td>...</td>\n",
       "      <td>...</td>\n",
       "    </tr>\n",
       "    <tr>\n",
       "      <th>422</th>\n",
       "      <td>천호3동 주민센터</td>\n",
       "      <td>서울특별시 강동구 진황도로23길 7</td>\n",
       "    </tr>\n",
       "    <tr>\n",
       "      <th>423</th>\n",
       "      <td>강일동 주민센터</td>\n",
       "      <td>서울특별시 강동구 아리수로93길 9-14</td>\n",
       "    </tr>\n",
       "  </tbody>\n",
       "</table>\n",
       "<p>424 rows × 2 columns</p>\n",
       "</div>"
      ],
      "text/plain": [
       "          주민센터명                      주소\n",
       "0    청운효자동 주민센터       서울특별시 종로구 자하문로 92\n",
       "1      사직동 주민센터       서울특별시 종로구 사직로9길 1\n",
       "..          ...                     ...\n",
       "422   천호3동 주민센터     서울특별시 강동구 진황도로23길 7\n",
       "423    강일동 주민센터  서울특별시 강동구 아리수로93길 9-14\n",
       "\n",
       "[424 rows x 2 columns]"
      ]
     },
     "execution_count": 24,
     "metadata": {},
     "output_type": "execute_result"
    }
   ],
   "source": [
    "columns = ['주민센터명', '주소']\n",
    "df = pd.DataFrame(zip(name_, address_), columns = columns) # 빈데이터 프레임 만들기 \n",
    "df"
   ]
  },
  {
   "cell_type": "markdown",
   "id": "453793c4",
   "metadata": {},
   "source": [
    "[소감]\n",
    "\n",
    "* 이름이랑 주소 가져오겠다고 ... 뷰티풀숲부터 셀레니움 뒤적거린 시간을 생각하니 눈물이 나네요 ^^ 중간에 포기할까 했지만 결국 해낸 내 자신 칭찬해! \n",
    "\n",
    "[참고사이트]\n",
    "* 지역선택 : (https://brunch.co.kr/@jk-lab/18)\n",
    "* 센터크롤링 참고 : https://datalabbit.tistory.com/45 , https://steadiness-193.tistory.com/118 , https://book.coalastudy.com/data_crawling/week6/stage4 , \n",
    "https://suriisurii.tistory.com/62"
   ]
  },
  {
   "cell_type": "markdown",
   "id": "9f21b703",
   "metadata": {},
   "source": [
    "## 데이터 크롤링(셀레니움) - for 복지시설 주소"
   ]
  },
  {
   "cell_type": "code",
   "execution_count": 125,
   "id": "683b66eb",
   "metadata": {},
   "outputs": [],
   "source": [
    "#chrome창(웹드라이버) 열기 \n",
    "browser = webdriver.Chrome(\"C:\\/chromedriver.exe\") \n",
    "\n",
    "# 홈페이지 접속하기 \n",
    "url = 'https://wis.seoul.go.kr/hope/customizedSearch.do'\n",
    "browser.get(url) #접속"
   ]
  },
  {
   "cell_type": "code",
   "execution_count": 126,
   "id": "28d0540c",
   "metadata": {},
   "outputs": [],
   "source": [
    "# 노인복지관 클릭\n",
    "local = browser.find_element(By.ID, 'tab1s12')\n",
    "local.click()"
   ]
  },
  {
   "cell_type": "code",
   "execution_count": 127,
   "id": "3da94dfd",
   "metadata": {},
   "outputs": [],
   "source": [
    "# 리스트 만들기 \n",
    "names = []\n",
    "address_ = []"
   ]
  },
  {
   "cell_type": "code",
   "execution_count": 128,
   "id": "7d73a6c0",
   "metadata": {},
   "outputs": [
    {
     "name": "stdout",
     "output_type": "stream",
     "text": [
      "86\n"
     ]
    }
   ],
   "source": [
    "schTbody = browser.find_element(By.ID, 'content').find_elements(By.TAG_NAME, 'dl')\n",
    "page = 1\n",
    "while len(schTbody) != 0:\n",
    "    for dl in schTbody : \n",
    "        dt_list = dl.find_element(By.TAG_NAME, 'dt')\n",
    "        ul_list = dl.find_element(By.TAG_NAME, 'ul')\n",
    "        name = dt_list.find_element(By.TAG_NAME, 'a').text\n",
    "        address = ul_list.find_element(By.TAG_NAME, 'li').text\n",
    "        names.append(name)\n",
    "        address_.append(address)\n",
    "\n",
    "    page +=1 #page 카운트 \n",
    "    browser.execute_script(f'javascript:pagedIng(\"{page}\")') # 다음페이지 클릭\n",
    "    time.sleep(3)\n",
    "    schTbody = browser.find_element(By.ID, 'content').find_elements(By.TAG_NAME, 'dl') #테이블 업뎃\n",
    "\n",
    "\n",
    "print(len(names))\n"
   ]
  },
  {
   "cell_type": "code",
   "execution_count": 129,
   "id": "3a18e849",
   "metadata": {},
   "outputs": [
    {
     "data": {
      "text/html": [
       "<div>\n",
       "<style scoped>\n",
       "    .dataframe tbody tr th:only-of-type {\n",
       "        vertical-align: middle;\n",
       "    }\n",
       "\n",
       "    .dataframe tbody tr th {\n",
       "        vertical-align: top;\n",
       "    }\n",
       "\n",
       "    .dataframe thead th {\n",
       "        text-align: right;\n",
       "    }\n",
       "</style>\n",
       "<table border=\"1\" class=\"dataframe\">\n",
       "  <thead>\n",
       "    <tr style=\"text-align: right;\">\n",
       "      <th></th>\n",
       "      <th>시설명</th>\n",
       "      <th>주소</th>\n",
       "    </tr>\n",
       "  </thead>\n",
       "  <tbody>\n",
       "    <tr>\n",
       "      <th>0</th>\n",
       "      <td>마포노인종합복지관</td>\n",
       "      <td>주소 서울특별시 마포구 서강로 68</td>\n",
       "    </tr>\n",
       "    <tr>\n",
       "      <th>1</th>\n",
       "      <td>강남구립강남시니어플라자</td>\n",
       "      <td>주소 서울특별시 강남구 봉은사로 332</td>\n",
       "    </tr>\n",
       "    <tr>\n",
       "      <th>...</th>\n",
       "      <td>...</td>\n",
       "      <td>...</td>\n",
       "    </tr>\n",
       "    <tr>\n",
       "      <th>84</th>\n",
       "      <td>방배느티나무쉼터</td>\n",
       "      <td>주소 서울특별시 서초구 남부순환로287길</td>\n",
       "    </tr>\n",
       "    <tr>\n",
       "      <th>85</th>\n",
       "      <td>용답동 노인복지센터</td>\n",
       "      <td>주소 서울특별시 성동구 용답동</td>\n",
       "    </tr>\n",
       "  </tbody>\n",
       "</table>\n",
       "<p>86 rows × 2 columns</p>\n",
       "</div>"
      ],
      "text/plain": [
       "             시설명                      주소\n",
       "0      마포노인종합복지관     주소 서울특별시 마포구 서강로 68\n",
       "1   강남구립강남시니어플라자   주소 서울특별시 강남구 봉은사로 332\n",
       "..           ...                     ...\n",
       "84      방배느티나무쉼터  주소 서울특별시 서초구 남부순환로287길\n",
       "85    용답동 노인복지센터        주소 서울특별시 성동구 용답동\n",
       "\n",
       "[86 rows x 2 columns]"
      ]
     },
     "execution_count": 129,
     "metadata": {},
     "output_type": "execute_result"
    }
   ],
   "source": [
    "columns = ['시설명', '주소']\n",
    "df = pd.DataFrame(zip(names, address_), columns = columns) # 빈데이터 프레임 만들기 \n",
    "df"
   ]
  },
  {
   "cell_type": "code",
   "execution_count": 130,
   "id": "750292a7",
   "metadata": {
    "scrolled": true
   },
   "outputs": [
    {
     "data": {
      "text/html": [
       "<div>\n",
       "<style scoped>\n",
       "    .dataframe tbody tr th:only-of-type {\n",
       "        vertical-align: middle;\n",
       "    }\n",
       "\n",
       "    .dataframe tbody tr th {\n",
       "        vertical-align: top;\n",
       "    }\n",
       "\n",
       "    .dataframe thead th {\n",
       "        text-align: right;\n",
       "    }\n",
       "</style>\n",
       "<table border=\"1\" class=\"dataframe\">\n",
       "  <thead>\n",
       "    <tr style=\"text-align: right;\">\n",
       "      <th></th>\n",
       "      <th>시설명</th>\n",
       "      <th>주소</th>\n",
       "    </tr>\n",
       "  </thead>\n",
       "  <tbody>\n",
       "    <tr>\n",
       "      <th>0</th>\n",
       "      <td>마포노인종합복지관</td>\n",
       "      <td>서울특별시 마포구 서강로 68</td>\n",
       "    </tr>\n",
       "    <tr>\n",
       "      <th>1</th>\n",
       "      <td>강남구립강남시니어플라자</td>\n",
       "      <td>서울특별시 강남구 봉은사로 332</td>\n",
       "    </tr>\n",
       "    <tr>\n",
       "      <th>...</th>\n",
       "      <td>...</td>\n",
       "      <td>...</td>\n",
       "    </tr>\n",
       "    <tr>\n",
       "      <th>84</th>\n",
       "      <td>방배느티나무쉼터</td>\n",
       "      <td>서울특별시 서초구 남부순환로287길</td>\n",
       "    </tr>\n",
       "    <tr>\n",
       "      <th>85</th>\n",
       "      <td>용답동 노인복지센터</td>\n",
       "      <td>서울특별시 성동구 용답동</td>\n",
       "    </tr>\n",
       "  </tbody>\n",
       "</table>\n",
       "<p>86 rows × 2 columns</p>\n",
       "</div>"
      ],
      "text/plain": [
       "             시설명                   주소\n",
       "0      마포노인종합복지관     서울특별시 마포구 서강로 68\n",
       "1   강남구립강남시니어플라자   서울특별시 강남구 봉은사로 332\n",
       "..           ...                  ...\n",
       "84      방배느티나무쉼터  서울특별시 서초구 남부순환로287길\n",
       "85    용답동 노인복지센터        서울특별시 성동구 용답동\n",
       "\n",
       "[86 rows x 2 columns]"
      ]
     },
     "execution_count": 130,
     "metadata": {},
     "output_type": "execute_result"
    }
   ],
   "source": [
    "df['주소'] = df['주소'].str[3:]\n",
    "df"
   ]
  },
  {
   "cell_type": "code",
   "execution_count": 108,
   "id": "332d8a5c",
   "metadata": {},
   "outputs": [],
   "source": [
    "df.to_excel('복지관주소.xlsx')"
   ]
  },
  {
   "cell_type": "markdown",
   "id": "2a0c4693",
   "metadata": {},
   "source": [
    "## 주소를 이용해 위도, 경도 가져오기"
   ]
  },
  {
   "cell_type": "markdown",
   "id": "0e1eb71d",
   "metadata": {},
   "source": [
    "* 지오코딩(주소를 통해 위도, 경도 좌표 얻기) "
   ]
  },
  {
   "cell_type": "code",
   "execution_count": 81,
   "id": "a3401eda",
   "metadata": {},
   "outputs": [
    {
     "name": "stdout",
     "output_type": "stream",
     "text": [
      "Requirement already satisfied: geopy in c:\\users\\debbie\\anaconda3\\lib\\site-packages (2.2.0)\n",
      "Requirement already satisfied: geographiclib<2,>=1.49 in c:\\users\\debbie\\anaconda3\\lib\\site-packages (from geopy) (1.52)\n",
      "Note: you may need to restart the kernel to use updated packages.\n"
     ]
    }
   ],
   "source": [
    "pip install geopy"
   ]
  },
  {
   "cell_type": "code",
   "execution_count": 82,
   "id": "0b34c94a",
   "metadata": {},
   "outputs": [],
   "source": [
    "from geopy.geocoders import Nominatim"
   ]
  },
  {
   "cell_type": "code",
   "execution_count": 83,
   "id": "7072f44d",
   "metadata": {},
   "outputs": [],
   "source": [
    "geolocoder = Nominatim(user_agent = 'South Korea', timeout = None)\n",
    "\n",
    "def geocoding(address) : \n",
    "    try : \n",
    "        geo= geolocoder.geocode(address)\n",
    "        crd = (str(geo.latitude), str(geo.longitude))\n",
    "        return crd\n",
    "    \n",
    "    except : \n",
    "        return (0,0)"
   ]
  },
  {
   "cell_type": "code",
   "execution_count": 109,
   "id": "5c8a860f",
   "metadata": {},
   "outputs": [],
   "source": [
    "lats = []\n",
    "logs = []\n",
    "\n",
    "for address in df['주소'] : \n",
    "    crd = geocoding(address)\n",
    "    lats.append(crd[0])\n",
    "    logs.append(crd[1])\n",
    "\n",
    "lats = pd.Series(lats)\n",
    "logs = pd.Series(logs)"
   ]
  },
  {
   "cell_type": "code",
   "execution_count": 110,
   "id": "920160d0",
   "metadata": {},
   "outputs": [
    {
     "data": {
      "text/html": [
       "<div>\n",
       "<style scoped>\n",
       "    .dataframe tbody tr th:only-of-type {\n",
       "        vertical-align: middle;\n",
       "    }\n",
       "\n",
       "    .dataframe tbody tr th {\n",
       "        vertical-align: top;\n",
       "    }\n",
       "\n",
       "    .dataframe thead th {\n",
       "        text-align: right;\n",
       "    }\n",
       "</style>\n",
       "<table border=\"1\" class=\"dataframe\">\n",
       "  <thead>\n",
       "    <tr style=\"text-align: right;\">\n",
       "      <th></th>\n",
       "      <th>복지관명</th>\n",
       "      <th>주소</th>\n",
       "      <th>위도</th>\n",
       "      <th>경도</th>\n",
       "      <th>0</th>\n",
       "      <th>0</th>\n",
       "    </tr>\n",
       "  </thead>\n",
       "  <tbody>\n",
       "    <tr>\n",
       "      <th>0</th>\n",
       "      <td>마포노인종합복지관</td>\n",
       "      <td>서울특별시 마포구 서강로 68</td>\n",
       "      <td>37.5549534</td>\n",
       "      <td>126.9366361</td>\n",
       "      <td>37.5549534</td>\n",
       "      <td>126.9366361</td>\n",
       "    </tr>\n",
       "    <tr>\n",
       "      <th>1</th>\n",
       "      <td>강남구립강남시니어플라자</td>\n",
       "      <td>서울특별시 강남구 봉은사로 332</td>\n",
       "      <td>37.5549534</td>\n",
       "      <td>126.9366361</td>\n",
       "      <td>37.5135682</td>\n",
       "      <td>127.05643</td>\n",
       "    </tr>\n",
       "    <tr>\n",
       "      <th>...</th>\n",
       "      <td>...</td>\n",
       "      <td>...</td>\n",
       "      <td>...</td>\n",
       "      <td>...</td>\n",
       "      <td>...</td>\n",
       "      <td>...</td>\n",
       "    </tr>\n",
       "    <tr>\n",
       "      <th>84</th>\n",
       "      <td>방배느티나무쉼터</td>\n",
       "      <td>서울특별시 서초구 남부순환로287길</td>\n",
       "      <td>37.4773892</td>\n",
       "      <td>126.9877348</td>\n",
       "      <td>37.4773892</td>\n",
       "      <td>126.9877348</td>\n",
       "    </tr>\n",
       "    <tr>\n",
       "      <th>85</th>\n",
       "      <td>용답동 노인복지센터</td>\n",
       "      <td>서울특별시 성동구 용답동</td>\n",
       "      <td>37.56211</td>\n",
       "      <td>127.05467</td>\n",
       "      <td>37.56211</td>\n",
       "      <td>127.05467</td>\n",
       "    </tr>\n",
       "  </tbody>\n",
       "</table>\n",
       "<p>86 rows × 6 columns</p>\n",
       "</div>"
      ],
      "text/plain": [
       "            복지관명                   주소          위도           경도           0  \\\n",
       "0      마포노인종합복지관     서울특별시 마포구 서강로 68  37.5549534  126.9366361  37.5549534   \n",
       "1   강남구립강남시니어플라자   서울특별시 강남구 봉은사로 332  37.5549534  126.9366361  37.5135682   \n",
       "..           ...                  ...         ...          ...         ...   \n",
       "84      방배느티나무쉼터  서울특별시 서초구 남부순환로287길  37.4773892  126.9877348  37.4773892   \n",
       "85    용답동 노인복지센터        서울특별시 성동구 용답동    37.56211    127.05467    37.56211   \n",
       "\n",
       "              0  \n",
       "0   126.9366361  \n",
       "1     127.05643  \n",
       "..          ...  \n",
       "84  126.9877348  \n",
       "85    127.05467  \n",
       "\n",
       "[86 rows x 6 columns]"
      ]
     },
     "execution_count": 110,
     "metadata": {},
     "output_type": "execute_result"
    }
   ],
   "source": [
    "df = pd.concat([df, lats], axis = 1)\n",
    "df = pd.concat([df, logs], axis = 1)\n",
    "df"
   ]
  },
  {
   "cell_type": "code",
   "execution_count": 112,
   "id": "b3ab96ff",
   "metadata": {},
   "outputs": [],
   "source": [
    "df.drop(columns = ['위도', '경도'], inplace = True)"
   ]
  },
  {
   "cell_type": "code",
   "execution_count": 113,
   "id": "cbfd0d1f",
   "metadata": {},
   "outputs": [
    {
     "data": {
      "text/html": [
       "<div>\n",
       "<style scoped>\n",
       "    .dataframe tbody tr th:only-of-type {\n",
       "        vertical-align: middle;\n",
       "    }\n",
       "\n",
       "    .dataframe tbody tr th {\n",
       "        vertical-align: top;\n",
       "    }\n",
       "\n",
       "    .dataframe thead th {\n",
       "        text-align: right;\n",
       "    }\n",
       "</style>\n",
       "<table border=\"1\" class=\"dataframe\">\n",
       "  <thead>\n",
       "    <tr style=\"text-align: right;\">\n",
       "      <th></th>\n",
       "      <th>복지관명</th>\n",
       "      <th>주소</th>\n",
       "      <th>위도</th>\n",
       "      <th>경도</th>\n",
       "    </tr>\n",
       "  </thead>\n",
       "  <tbody>\n",
       "    <tr>\n",
       "      <th>0</th>\n",
       "      <td>마포노인종합복지관</td>\n",
       "      <td>서울특별시 마포구 서강로 68</td>\n",
       "      <td>37.5549534</td>\n",
       "      <td>126.9366361</td>\n",
       "    </tr>\n",
       "    <tr>\n",
       "      <th>1</th>\n",
       "      <td>강남구립강남시니어플라자</td>\n",
       "      <td>서울특별시 강남구 봉은사로 332</td>\n",
       "      <td>37.5135682</td>\n",
       "      <td>127.05643</td>\n",
       "    </tr>\n",
       "    <tr>\n",
       "      <th>...</th>\n",
       "      <td>...</td>\n",
       "      <td>...</td>\n",
       "      <td>...</td>\n",
       "      <td>...</td>\n",
       "    </tr>\n",
       "    <tr>\n",
       "      <th>84</th>\n",
       "      <td>방배느티나무쉼터</td>\n",
       "      <td>서울특별시 서초구 남부순환로287길</td>\n",
       "      <td>37.4773892</td>\n",
       "      <td>126.9877348</td>\n",
       "    </tr>\n",
       "    <tr>\n",
       "      <th>85</th>\n",
       "      <td>용답동 노인복지센터</td>\n",
       "      <td>서울특별시 성동구 용답동</td>\n",
       "      <td>37.56211</td>\n",
       "      <td>127.05467</td>\n",
       "    </tr>\n",
       "  </tbody>\n",
       "</table>\n",
       "<p>86 rows × 4 columns</p>\n",
       "</div>"
      ],
      "text/plain": [
       "            복지관명                   주소          위도           경도\n",
       "0      마포노인종합복지관     서울특별시 마포구 서강로 68  37.5549534  126.9366361\n",
       "1   강남구립강남시니어플라자   서울특별시 강남구 봉은사로 332  37.5135682    127.05643\n",
       "..           ...                  ...         ...          ...\n",
       "84      방배느티나무쉼터  서울특별시 서초구 남부순환로287길  37.4773892  126.9877348\n",
       "85    용답동 노인복지센터        서울특별시 성동구 용답동    37.56211    127.05467\n",
       "\n",
       "[86 rows x 4 columns]"
      ]
     },
     "execution_count": 113,
     "metadata": {},
     "output_type": "execute_result"
    }
   ],
   "source": [
    "df.columns = ['복지관명', '주소', '위도', '경도']\n",
    "df"
   ]
  },
  {
   "cell_type": "code",
   "execution_count": 114,
   "id": "04acbce5",
   "metadata": {},
   "outputs": [
    {
     "data": {
      "text/html": [
       "<div>\n",
       "<style scoped>\n",
       "    .dataframe tbody tr th:only-of-type {\n",
       "        vertical-align: middle;\n",
       "    }\n",
       "\n",
       "    .dataframe tbody tr th {\n",
       "        vertical-align: top;\n",
       "    }\n",
       "\n",
       "    .dataframe thead th {\n",
       "        text-align: right;\n",
       "    }\n",
       "</style>\n",
       "<table border=\"1\" class=\"dataframe\">\n",
       "  <thead>\n",
       "    <tr style=\"text-align: right;\">\n",
       "      <th></th>\n",
       "      <th>복지관명</th>\n",
       "      <th>주소</th>\n",
       "      <th>위도</th>\n",
       "      <th>경도</th>\n",
       "    </tr>\n",
       "  </thead>\n",
       "  <tbody>\n",
       "    <tr>\n",
       "      <th>33</th>\n",
       "      <td>방학동어르신복지관</td>\n",
       "      <td>서울특별시 도봉구 시루봉로 15라길 59-9</td>\n",
       "      <td>0</td>\n",
       "      <td>0</td>\n",
       "    </tr>\n",
       "    <tr>\n",
       "      <th>38</th>\n",
       "      <td>도봉동어르신복지관</td>\n",
       "      <td>서울특별시 도봉구 도봉로 169가길 52</td>\n",
       "      <td>0</td>\n",
       "      <td>0</td>\n",
       "    </tr>\n",
       "    <tr>\n",
       "      <th>64</th>\n",
       "      <td>강서구립곰달래어르신복지센터</td>\n",
       "      <td>서울특별시 강서구 강서로5길 50</td>\n",
       "      <td>0</td>\n",
       "      <td>0</td>\n",
       "    </tr>\n",
       "  </tbody>\n",
       "</table>\n",
       "</div>"
      ],
      "text/plain": [
       "              복지관명                        주소 위도 경도\n",
       "33       방학동어르신복지관  서울특별시 도봉구 시루봉로 15라길 59-9  0  0\n",
       "38       도봉동어르신복지관    서울특별시 도봉구 도봉로 169가길 52  0  0\n",
       "64  강서구립곰달래어르신복지센터        서울특별시 강서구 강서로5길 50  0  0"
      ]
     },
     "execution_count": 114,
     "metadata": {},
     "output_type": "execute_result"
    }
   ],
   "source": [
    "# 오류난 곳 주소 변경해서 다시하기 \n",
    "error = df[df.위도 == 0]\n",
    "error.head(5)"
   ]
  },
  {
   "cell_type": "code",
   "execution_count": 93,
   "id": "ca85f091",
   "metadata": {},
   "outputs": [],
   "source": [
    "# 복지관 error 주소변경 \n",
    "df.iloc[27, 1] = '서울특별시 구로구 부일로9길 111'\n",
    "df.iloc[33, 1] = '서울특별시 도봉구 시루봉로 15라길 59-9'\n",
    "df.iloc[38,1] = '서울특별시 도봉구 도봉로 169가길 52'\n",
    "df.iloc[62, 1] = '서울특별시 노원구 노원로16길 15'\n",
    "df.iloc[64, 1] = '서울특별시 강서구 강서로5길 50'\n",
    "df.iloc[71,1] = '서울특별시 중랑구 망우로65길 20-0'"
   ]
  },
  {
   "cell_type": "code",
   "execution_count": 99,
   "id": "16a1cdbd",
   "metadata": {},
   "outputs": [
    {
     "data": {
      "text/plain": [
       "27         서울특별시 구로구 부일로9길 111\n",
       "33    서울특별시 도봉구 시루봉로 15라길 59-9\n",
       "                ...           \n",
       "64          서울특별시 강서구 강서로5길 50\n",
       "71       서울특별시 중랑구 망우로65길 20-0\n",
       "Name: 주소, Length: 6, dtype: object"
      ]
     },
     "execution_count": 99,
     "metadata": {},
     "output_type": "execute_result"
    }
   ],
   "source": [
    "# df에서 위도 경도 채워주기 \n",
    "error_ad = error.주소\n",
    "error_ad"
   ]
  },
  {
   "cell_type": "code",
   "execution_count": 100,
   "id": "3ae60464",
   "metadata": {},
   "outputs": [
    {
     "data": {
      "text/html": [
       "<div>\n",
       "<style scoped>\n",
       "    .dataframe tbody tr th:only-of-type {\n",
       "        vertical-align: middle;\n",
       "    }\n",
       "\n",
       "    .dataframe tbody tr th {\n",
       "        vertical-align: top;\n",
       "    }\n",
       "\n",
       "    .dataframe thead th {\n",
       "        text-align: right;\n",
       "    }\n",
       "</style>\n",
       "<table border=\"1\" class=\"dataframe\">\n",
       "  <thead>\n",
       "    <tr style=\"text-align: right;\">\n",
       "      <th></th>\n",
       "      <th>복지관명</th>\n",
       "      <th>주소</th>\n",
       "      <th>위도</th>\n",
       "      <th>경도</th>\n",
       "    </tr>\n",
       "  </thead>\n",
       "  <tbody>\n",
       "  </tbody>\n",
       "</table>\n",
       "</div>"
      ],
      "text/plain": [
       "Empty DataFrame\n",
       "Columns: [복지관명, 주소, 위도, 경도]\n",
       "Index: []"
      ]
     },
     "execution_count": 100,
     "metadata": {},
     "output_type": "execute_result"
    }
   ],
   "source": [
    "for i in range(6) :\n",
    "    df.iloc[error_ad.index[i],2] = geocoding(error_ad.values[0])[0]\n",
    "    df.iloc[error_ad.index[i],3] = geocoding(error_ad.values[0])[1]\n",
    "    \n",
    "df[df.위도 == 0]"
   ]
  },
  {
   "cell_type": "code",
   "execution_count": 101,
   "id": "a4c13829",
   "metadata": {
    "scrolled": true
   },
   "outputs": [
    {
     "data": {
      "text/html": [
       "<div>\n",
       "<style scoped>\n",
       "    .dataframe tbody tr th:only-of-type {\n",
       "        vertical-align: middle;\n",
       "    }\n",
       "\n",
       "    .dataframe tbody tr th {\n",
       "        vertical-align: top;\n",
       "    }\n",
       "\n",
       "    .dataframe thead th {\n",
       "        text-align: right;\n",
       "    }\n",
       "</style>\n",
       "<table border=\"1\" class=\"dataframe\">\n",
       "  <thead>\n",
       "    <tr style=\"text-align: right;\">\n",
       "      <th></th>\n",
       "      <th>복지관명</th>\n",
       "      <th>주소</th>\n",
       "      <th>위도</th>\n",
       "      <th>경도</th>\n",
       "    </tr>\n",
       "  </thead>\n",
       "  <tbody>\n",
       "    <tr>\n",
       "      <th>0</th>\n",
       "      <td>마포노인종합복지관</td>\n",
       "      <td>서울특별시 마포구 서강로 68</td>\n",
       "      <td>37.5549534</td>\n",
       "      <td>126.9366361</td>\n",
       "    </tr>\n",
       "    <tr>\n",
       "      <th>1</th>\n",
       "      <td>강남구립강남시니어플라자</td>\n",
       "      <td>서울특별시 강남구 봉은사로 332</td>\n",
       "      <td>37.5549534</td>\n",
       "      <td>126.9366361</td>\n",
       "    </tr>\n",
       "    <tr>\n",
       "      <th>...</th>\n",
       "      <td>...</td>\n",
       "      <td>...</td>\n",
       "      <td>...</td>\n",
       "      <td>...</td>\n",
       "    </tr>\n",
       "    <tr>\n",
       "      <th>84</th>\n",
       "      <td>방배느티나무쉼터</td>\n",
       "      <td>서울특별시 서초구 남부순환로287길</td>\n",
       "      <td>37.4773892</td>\n",
       "      <td>126.9877348</td>\n",
       "    </tr>\n",
       "    <tr>\n",
       "      <th>85</th>\n",
       "      <td>용답동 노인복지센터</td>\n",
       "      <td>서울특별시 성동구 용답동</td>\n",
       "      <td>37.56211</td>\n",
       "      <td>127.05467</td>\n",
       "    </tr>\n",
       "  </tbody>\n",
       "</table>\n",
       "<p>86 rows × 4 columns</p>\n",
       "</div>"
      ],
      "text/plain": [
       "            복지관명                   주소          위도           경도\n",
       "0      마포노인종합복지관     서울특별시 마포구 서강로 68  37.5549534  126.9366361\n",
       "1   강남구립강남시니어플라자   서울특별시 강남구 봉은사로 332  37.5549534  126.9366361\n",
       "..           ...                  ...         ...          ...\n",
       "84      방배느티나무쉼터  서울특별시 서초구 남부순환로287길  37.4773892  126.9877348\n",
       "85    용답동 노인복지센터        서울특별시 성동구 용답동    37.56211    127.05467\n",
       "\n",
       "[86 rows x 4 columns]"
      ]
     },
     "execution_count": 101,
     "metadata": {},
     "output_type": "execute_result"
    }
   ],
   "source": [
    "df"
   ]
  },
  {
   "cell_type": "code",
   "execution_count": 116,
   "id": "67bb8f04",
   "metadata": {},
   "outputs": [],
   "source": [
    "df.to_excel('복지관명.xlsx')"
   ]
  },
  {
   "cell_type": "code",
   "execution_count": 117,
   "id": "b6c09c25",
   "metadata": {},
   "outputs": [],
   "source": [
    "df.to_csv('복지관명_위도경도.csv')"
   ]
  },
  {
   "cell_type": "markdown",
   "id": "3a380aa7",
   "metadata": {},
   "source": [
    "----------------------------------"
   ]
  },
  {
   "cell_type": "code",
   "execution_count": 30,
   "id": "acb397af",
   "metadata": {},
   "outputs": [],
   "source": [
    "# 주민센터주소변경 \n",
    "df.iloc[115, 1] = '서울 성북구 고려대로 16'\n",
    "df.iloc[238, 1] = '서울 양천구 목동서로 353'\n",
    "df.iloc[274,1] = '서울 구로구 오리로15길 32'"
   ]
  },
  {
   "cell_type": "code",
   "execution_count": 108,
   "id": "e6739860",
   "metadata": {
    "scrolled": true
   },
   "outputs": [
    {
     "data": {
      "text/html": [
       "<div>\n",
       "<style scoped>\n",
       "    .dataframe tbody tr th:only-of-type {\n",
       "        vertical-align: middle;\n",
       "    }\n",
       "\n",
       "    .dataframe tbody tr th {\n",
       "        vertical-align: top;\n",
       "    }\n",
       "\n",
       "    .dataframe thead th {\n",
       "        text-align: right;\n",
       "    }\n",
       "</style>\n",
       "<table border=\"1\" class=\"dataframe\">\n",
       "  <thead>\n",
       "    <tr style=\"text-align: right;\">\n",
       "      <th></th>\n",
       "      <th>주민센터명</th>\n",
       "      <th>주소</th>\n",
       "      <th>위도</th>\n",
       "      <th>경도</th>\n",
       "    </tr>\n",
       "  </thead>\n",
       "  <tbody>\n",
       "  </tbody>\n",
       "</table>\n",
       "</div>"
      ],
      "text/plain": [
       "Empty DataFrame\n",
       "Columns: [주민센터명, 주소, 위도, 경도]\n",
       "Index: []"
      ]
     },
     "execution_count": 108,
     "metadata": {},
     "output_type": "execute_result"
    }
   ],
   "source": [
    "# df에서 위도, 경도 채워주기  \n",
    "error_ad = error.주소\n",
    "error_ad\n",
    "\n",
    "for i in range(3) : \n",
    "    df.iloc[error_ad.index[i], 2] = geocoding(error_ad.values[0])[0]\n",
    "    df.iloc[error_ad.index[i], 3] = geocoding(error_ad.values[0])[1]\n",
    "\n",
    "df[df.위도 == 0]"
   ]
  },
  {
   "cell_type": "code",
   "execution_count": 109,
   "id": "ffd2db3d",
   "metadata": {},
   "outputs": [
    {
     "data": {
      "text/html": [
       "<div>\n",
       "<style scoped>\n",
       "    .dataframe tbody tr th:only-of-type {\n",
       "        vertical-align: middle;\n",
       "    }\n",
       "\n",
       "    .dataframe tbody tr th {\n",
       "        vertical-align: top;\n",
       "    }\n",
       "\n",
       "    .dataframe thead th {\n",
       "        text-align: right;\n",
       "    }\n",
       "</style>\n",
       "<table border=\"1\" class=\"dataframe\">\n",
       "  <thead>\n",
       "    <tr style=\"text-align: right;\">\n",
       "      <th></th>\n",
       "      <th>주민센터명</th>\n",
       "      <th>주소</th>\n",
       "      <th>위도</th>\n",
       "      <th>경도</th>\n",
       "    </tr>\n",
       "  </thead>\n",
       "  <tbody>\n",
       "    <tr>\n",
       "      <th>0</th>\n",
       "      <td>청운효자동 주민센터</td>\n",
       "      <td>서울특별시 종로구 자하문로 92</td>\n",
       "      <td>37.584083</td>\n",
       "      <td>126.970636</td>\n",
       "    </tr>\n",
       "    <tr>\n",
       "      <th>1</th>\n",
       "      <td>사직동 주민센터</td>\n",
       "      <td>서울특별시 종로구 사직로9길 1</td>\n",
       "      <td>37.576191</td>\n",
       "      <td>126.968829</td>\n",
       "    </tr>\n",
       "    <tr>\n",
       "      <th>...</th>\n",
       "      <td>...</td>\n",
       "      <td>...</td>\n",
       "      <td>...</td>\n",
       "      <td>...</td>\n",
       "    </tr>\n",
       "    <tr>\n",
       "      <th>422</th>\n",
       "      <td>천호3동 주민센터</td>\n",
       "      <td>서울특별시 강동구 진황도로23길 7</td>\n",
       "      <td>37.539519</td>\n",
       "      <td>127.129328</td>\n",
       "    </tr>\n",
       "    <tr>\n",
       "      <th>423</th>\n",
       "      <td>강일동 주민센터</td>\n",
       "      <td>서울특별시 강동구 아리수로93길 9-14</td>\n",
       "      <td>37.564942</td>\n",
       "      <td>127.173915</td>\n",
       "    </tr>\n",
       "  </tbody>\n",
       "</table>\n",
       "<p>424 rows × 4 columns</p>\n",
       "</div>"
      ],
      "text/plain": [
       "          주민센터명                      주소         위도          경도\n",
       "0    청운효자동 주민센터       서울특별시 종로구 자하문로 92  37.584083  126.970636\n",
       "1      사직동 주민센터       서울특별시 종로구 사직로9길 1  37.576191  126.968829\n",
       "..          ...                     ...        ...         ...\n",
       "422   천호3동 주민센터     서울특별시 강동구 진황도로23길 7  37.539519  127.129328\n",
       "423    강일동 주민센터  서울특별시 강동구 아리수로93길 9-14  37.564942  127.173915\n",
       "\n",
       "[424 rows x 4 columns]"
      ]
     },
     "execution_count": 109,
     "metadata": {},
     "output_type": "execute_result"
    }
   ],
   "source": [
    "df"
   ]
  },
  {
   "cell_type": "code",
   "execution_count": 110,
   "id": "cd9e0f4d",
   "metadata": {},
   "outputs": [],
   "source": [
    "df.to_csv('jmst_lat_log', index = False)"
   ]
  },
  {
   "cell_type": "markdown",
   "id": "ffd596a6",
   "metadata": {},
   "source": [
    "# 위도경도로 주변시설 개수 찾기"
   ]
  },
  {
   "cell_type": "code",
   "execution_count": 38,
   "id": "15de5792",
   "metadata": {
    "scrolled": true
   },
   "outputs": [
    {
     "name": "stdout",
     "output_type": "stream",
     "text": [
      "Collecting haversine\n",
      "  Downloading haversine-2.6.0-py2.py3-none-any.whl (6.8 kB)\n",
      "Installing collected packages: haversine\n",
      "Successfully installed haversine-2.6.0\n"
     ]
    }
   ],
   "source": [
    "!pip install haversine\n",
    "\n",
    "from haversine import haversine"
   ]
  },
  {
   "cell_type": "code",
   "execution_count": 130,
   "id": "c3bf5ac0",
   "metadata": {},
   "outputs": [
    {
     "data": {
      "text/html": [
       "<div>\n",
       "<style scoped>\n",
       "    .dataframe tbody tr th:only-of-type {\n",
       "        vertical-align: middle;\n",
       "    }\n",
       "\n",
       "    .dataframe tbody tr th {\n",
       "        vertical-align: top;\n",
       "    }\n",
       "\n",
       "    .dataframe thead th {\n",
       "        text-align: right;\n",
       "    }\n",
       "</style>\n",
       "<table border=\"1\" class=\"dataframe\">\n",
       "  <thead>\n",
       "    <tr style=\"text-align: right;\">\n",
       "      <th></th>\n",
       "      <th>주민센터명</th>\n",
       "      <th>주소</th>\n",
       "      <th>위도</th>\n",
       "      <th>경도</th>\n",
       "    </tr>\n",
       "  </thead>\n",
       "  <tbody>\n",
       "    <tr>\n",
       "      <th>0</th>\n",
       "      <td>청운효자동 주민센터</td>\n",
       "      <td>서울특별시 종로구 자하문로 92</td>\n",
       "      <td>37.584083</td>\n",
       "      <td>126.970636</td>\n",
       "    </tr>\n",
       "  </tbody>\n",
       "</table>\n",
       "</div>"
      ],
      "text/plain": [
       "        주민센터명                 주소         위도          경도\n",
       "0  청운효자동 주민센터  서울특별시 종로구 자하문로 92  37.584083  126.970636"
      ]
     },
     "execution_count": 130,
     "metadata": {},
     "output_type": "execute_result"
    }
   ],
   "source": [
    "df = pd.read_csv('jmst_lat_log')\n",
    "df.head(1)"
   ]
  },
  {
   "cell_type": "code",
   "execution_count": 131,
   "id": "c85ec4fd",
   "metadata": {},
   "outputs": [
    {
     "data": {
      "text/html": [
       "<div>\n",
       "<style scoped>\n",
       "    .dataframe tbody tr th:only-of-type {\n",
       "        vertical-align: middle;\n",
       "    }\n",
       "\n",
       "    .dataframe tbody tr th {\n",
       "        vertical-align: top;\n",
       "    }\n",
       "\n",
       "    .dataframe thead th {\n",
       "        text-align: right;\n",
       "    }\n",
       "</style>\n",
       "<table border=\"1\" class=\"dataframe\">\n",
       "  <thead>\n",
       "    <tr style=\"text-align: right;\">\n",
       "      <th></th>\n",
       "      <th>ARS-ID</th>\n",
       "      <th>정류소명</th>\n",
       "      <th>X좌표</th>\n",
       "      <th>Y좌표</th>\n",
       "    </tr>\n",
       "  </thead>\n",
       "  <tbody>\n",
       "    <tr>\n",
       "      <th>0</th>\n",
       "      <td>1001</td>\n",
       "      <td>종로2가사거리</td>\n",
       "      <td>126.987750</td>\n",
       "      <td>37.569765</td>\n",
       "    </tr>\n",
       "    <tr>\n",
       "      <th>1</th>\n",
       "      <td>1002</td>\n",
       "      <td>창경궁.서울대학교병원</td>\n",
       "      <td>126.996566</td>\n",
       "      <td>37.579183</td>\n",
       "    </tr>\n",
       "    <tr>\n",
       "      <th>...</th>\n",
       "      <td>...</td>\n",
       "      <td>...</td>\n",
       "      <td>...</td>\n",
       "      <td>...</td>\n",
       "    </tr>\n",
       "    <tr>\n",
       "      <th>11313</th>\n",
       "      <td>25998</td>\n",
       "      <td>성내시장</td>\n",
       "      <td>127.125497</td>\n",
       "      <td>37.536155</td>\n",
       "    </tr>\n",
       "    <tr>\n",
       "      <th>11314</th>\n",
       "      <td>25999</td>\n",
       "      <td>천호우체국.로데오거리</td>\n",
       "      <td>127.127337</td>\n",
       "      <td>37.540343</td>\n",
       "    </tr>\n",
       "  </tbody>\n",
       "</table>\n",
       "<p>11315 rows × 4 columns</p>\n",
       "</div>"
      ],
      "text/plain": [
       "       ARS-ID         정류소명         X좌표        Y좌표\n",
       "0        1001      종로2가사거리  126.987750  37.569765\n",
       "1        1002  창경궁.서울대학교병원  126.996566  37.579183\n",
       "...       ...          ...         ...        ...\n",
       "11313   25998         성내시장  127.125497  37.536155\n",
       "11314   25999  천호우체국.로데오거리  127.127337  37.540343\n",
       "\n",
       "[11315 rows x 4 columns]"
      ]
     },
     "execution_count": 131,
     "metadata": {},
     "output_type": "execute_result"
    }
   ],
   "source": [
    "df_bus = pd.read_csv('data/서울시버스정류소좌표데이터(2022.04.15).csv',\n",
    "                    encoding = 'cp949')\n",
    "df_bus"
   ]
  },
  {
   "cell_type": "code",
   "execution_count": 132,
   "id": "1d5c2cad",
   "metadata": {},
   "outputs": [
    {
     "data": {
      "text/html": [
       "<div>\n",
       "<style scoped>\n",
       "    .dataframe tbody tr th:only-of-type {\n",
       "        vertical-align: middle;\n",
       "    }\n",
       "\n",
       "    .dataframe tbody tr th {\n",
       "        vertical-align: top;\n",
       "    }\n",
       "\n",
       "    .dataframe thead th {\n",
       "        text-align: right;\n",
       "    }\n",
       "</style>\n",
       "<table border=\"1\" class=\"dataframe\">\n",
       "  <thead>\n",
       "    <tr style=\"text-align: right;\">\n",
       "      <th></th>\n",
       "      <th>ARS-ID</th>\n",
       "      <th>정류소명</th>\n",
       "      <th>Y좌표</th>\n",
       "      <th>X좌표</th>\n",
       "    </tr>\n",
       "  </thead>\n",
       "  <tbody>\n",
       "    <tr>\n",
       "      <th>0</th>\n",
       "      <td>1001</td>\n",
       "      <td>종로2가사거리</td>\n",
       "      <td>37.569765</td>\n",
       "      <td>126.987750</td>\n",
       "    </tr>\n",
       "    <tr>\n",
       "      <th>1</th>\n",
       "      <td>1002</td>\n",
       "      <td>창경궁.서울대학교병원</td>\n",
       "      <td>37.579183</td>\n",
       "      <td>126.996566</td>\n",
       "    </tr>\n",
       "    <tr>\n",
       "      <th>...</th>\n",
       "      <td>...</td>\n",
       "      <td>...</td>\n",
       "      <td>...</td>\n",
       "      <td>...</td>\n",
       "    </tr>\n",
       "    <tr>\n",
       "      <th>11313</th>\n",
       "      <td>25998</td>\n",
       "      <td>성내시장</td>\n",
       "      <td>37.536155</td>\n",
       "      <td>127.125497</td>\n",
       "    </tr>\n",
       "    <tr>\n",
       "      <th>11314</th>\n",
       "      <td>25999</td>\n",
       "      <td>천호우체국.로데오거리</td>\n",
       "      <td>37.540343</td>\n",
       "      <td>127.127337</td>\n",
       "    </tr>\n",
       "  </tbody>\n",
       "</table>\n",
       "<p>11315 rows × 4 columns</p>\n",
       "</div>"
      ],
      "text/plain": [
       "       ARS-ID         정류소명        Y좌표         X좌표\n",
       "0        1001      종로2가사거리  37.569765  126.987750\n",
       "1        1002  창경궁.서울대학교병원  37.579183  126.996566\n",
       "...       ...          ...        ...         ...\n",
       "11313   25998         성내시장  37.536155  127.125497\n",
       "11314   25999  천호우체국.로데오거리  37.540343  127.127337\n",
       "\n",
       "[11315 rows x 4 columns]"
      ]
     },
     "execution_count": 132,
     "metadata": {},
     "output_type": "execute_result"
    }
   ],
   "source": [
    "#df_bus (경도 위도)를 위도 경도로  바꿔준다 \n",
    "df_bus[['ARS-ID', '정류소명', 'Y좌표', 'X좌표']]"
   ]
  },
  {
   "cell_type": "code",
   "execution_count": 133,
   "id": "4413bf97",
   "metadata": {},
   "outputs": [
    {
     "data": {
      "text/html": [
       "<div>\n",
       "<style scoped>\n",
       "    .dataframe tbody tr th:only-of-type {\n",
       "        vertical-align: middle;\n",
       "    }\n",
       "\n",
       "    .dataframe tbody tr th {\n",
       "        vertical-align: top;\n",
       "    }\n",
       "\n",
       "    .dataframe thead th {\n",
       "        text-align: right;\n",
       "    }\n",
       "</style>\n",
       "<table border=\"1\" class=\"dataframe\">\n",
       "  <thead>\n",
       "    <tr style=\"text-align: right;\">\n",
       "      <th></th>\n",
       "      <th>주민센터명</th>\n",
       "      <th>주소</th>\n",
       "      <th>위도</th>\n",
       "      <th>경도</th>\n",
       "    </tr>\n",
       "  </thead>\n",
       "  <tbody>\n",
       "    <tr>\n",
       "      <th>0</th>\n",
       "      <td>청운효자동 주민센터</td>\n",
       "      <td>서울특별시 종로구 자하문로 92</td>\n",
       "      <td>37.584083</td>\n",
       "      <td>126.970636</td>\n",
       "    </tr>\n",
       "    <tr>\n",
       "      <th>1</th>\n",
       "      <td>사직동 주민센터</td>\n",
       "      <td>서울특별시 종로구 사직로9길 1</td>\n",
       "      <td>37.576191</td>\n",
       "      <td>126.968829</td>\n",
       "    </tr>\n",
       "    <tr>\n",
       "      <th>...</th>\n",
       "      <td>...</td>\n",
       "      <td>...</td>\n",
       "      <td>...</td>\n",
       "      <td>...</td>\n",
       "    </tr>\n",
       "    <tr>\n",
       "      <th>422</th>\n",
       "      <td>천호3동 주민센터</td>\n",
       "      <td>서울특별시 강동구 진황도로23길 7</td>\n",
       "      <td>37.539519</td>\n",
       "      <td>127.129328</td>\n",
       "    </tr>\n",
       "    <tr>\n",
       "      <th>423</th>\n",
       "      <td>강일동 주민센터</td>\n",
       "      <td>서울특별시 강동구 아리수로93길 9-14</td>\n",
       "      <td>37.564942</td>\n",
       "      <td>127.173915</td>\n",
       "    </tr>\n",
       "  </tbody>\n",
       "</table>\n",
       "<p>424 rows × 4 columns</p>\n",
       "</div>"
      ],
      "text/plain": [
       "          주민센터명                      주소         위도          경도\n",
       "0    청운효자동 주민센터       서울특별시 종로구 자하문로 92  37.584083  126.970636\n",
       "1      사직동 주민센터       서울특별시 종로구 사직로9길 1  37.576191  126.968829\n",
       "..          ...                     ...        ...         ...\n",
       "422   천호3동 주민센터     서울특별시 강동구 진황도로23길 7  37.539519  127.129328\n",
       "423    강일동 주민센터  서울특별시 강동구 아리수로93길 9-14  37.564942  127.173915\n",
       "\n",
       "[424 rows x 4 columns]"
      ]
     },
     "execution_count": 133,
     "metadata": {},
     "output_type": "execute_result"
    }
   ],
   "source": [
    "#df의 경도, 위도가 string으로 되어있었따 \n",
    "df['경도'] = pd.to_numeric(df['경도'])\n",
    "df['위도'] = pd.to_numeric(df['위도'])\n",
    "df"
   ]
  },
  {
   "cell_type": "code",
   "execution_count": 123,
   "id": "ba8a7977",
   "metadata": {},
   "outputs": [],
   "source": [
    "df.drop(columns = '200m내버스정류장개수', inplace = Truei)"
   ]
  },
  {
   "cell_type": "code",
   "execution_count": 126,
   "id": "a2a6176c",
   "metadata": {},
   "outputs": [],
   "source": [
    "from tqdm import tqdm \n",
    "#tqdm : for문을 돌릴때 얼마만큼 진행되는지에 대한 피드백을 주는 기능 \n",
    "## 사용법 : for 문의 in구문으로 tqdm을 감싸면 된다\n",
    "# for i in tqdm(range(1, 600)) :\n"
   ]
  },
  {
   "cell_type": "code",
   "execution_count": 127,
   "id": "7f0442ab",
   "metadata": {},
   "outputs": [],
   "source": [
    "# 함수 만들기 (200m 이하 거리에 위치한 버스정류장 찾기)\n",
    "def find_bus_cnt(center, store, column) :\n",
    "    for i in tqdm(range(len(center))) :\n",
    "        distance = []\n",
    "        for j in range(len(store)) : \n",
    "            centerloc = tuple(df[['위도', '경도']].iloc[i])\n",
    "            storeloc = tuple(df_bus[['Y좌표', 'X좌표']].iloc[j])\n",
    "            distance.append(haversine(centerloc, storeloc, unit = 'm'))\n",
    "            \n",
    "        distance = [d for d in distance if d <= 200.0]\n",
    "        center[column][i] = len(distance)\n",
    "        \n",
    "    return center\n"
   ]
  },
  {
   "cell_type": "code",
   "execution_count": 128,
   "id": "391fc188",
   "metadata": {},
   "outputs": [
    {
     "name": "stderr",
     "output_type": "stream",
     "text": [
      "  0%|                                                                                          | 0/424 [00:00<?, ?it/s]C:\\Users\\debbie\\AppData\\Local\\Temp/ipykernel_8820/1259571478.py:11: SettingWithCopyWarning: \n",
      "A value is trying to be set on a copy of a slice from a DataFrame\n",
      "\n",
      "See the caveats in the documentation: https://pandas.pydata.org/pandas-docs/stable/user_guide/indexing.html#returning-a-view-versus-a-copy\n",
      "  center[column][i] = len(distance)\n",
      "100%|█████████████████████████████████████████████████████████████████████████████| 424/424 [10:10:27<00:00, 86.38s/it]\n"
     ]
    },
    {
     "data": {
      "text/html": [
       "<div>\n",
       "<style scoped>\n",
       "    .dataframe tbody tr th:only-of-type {\n",
       "        vertical-align: middle;\n",
       "    }\n",
       "\n",
       "    .dataframe tbody tr th {\n",
       "        vertical-align: top;\n",
       "    }\n",
       "\n",
       "    .dataframe thead th {\n",
       "        text-align: right;\n",
       "    }\n",
       "</style>\n",
       "<table border=\"1\" class=\"dataframe\">\n",
       "  <thead>\n",
       "    <tr style=\"text-align: right;\">\n",
       "      <th></th>\n",
       "      <th>주민센터명</th>\n",
       "      <th>주소</th>\n",
       "      <th>위도</th>\n",
       "      <th>경도</th>\n",
       "      <th>200m내버스정류장개수</th>\n",
       "    </tr>\n",
       "  </thead>\n",
       "  <tbody>\n",
       "    <tr>\n",
       "      <th>0</th>\n",
       "      <td>청운효자동 주민센터</td>\n",
       "      <td>서울특별시 종로구 자하문로 92</td>\n",
       "      <td>37.584083</td>\n",
       "      <td>126.970636</td>\n",
       "      <td>4</td>\n",
       "    </tr>\n",
       "    <tr>\n",
       "      <th>1</th>\n",
       "      <td>사직동 주민센터</td>\n",
       "      <td>서울특별시 종로구 사직로9길 1</td>\n",
       "      <td>37.576191</td>\n",
       "      <td>126.968829</td>\n",
       "      <td>7</td>\n",
       "    </tr>\n",
       "    <tr>\n",
       "      <th>...</th>\n",
       "      <td>...</td>\n",
       "      <td>...</td>\n",
       "      <td>...</td>\n",
       "      <td>...</td>\n",
       "      <td>...</td>\n",
       "    </tr>\n",
       "    <tr>\n",
       "      <th>422</th>\n",
       "      <td>천호3동 주민센터</td>\n",
       "      <td>서울특별시 강동구 진황도로23길 7</td>\n",
       "      <td>37.539519</td>\n",
       "      <td>127.129328</td>\n",
       "      <td>4</td>\n",
       "    </tr>\n",
       "    <tr>\n",
       "      <th>423</th>\n",
       "      <td>강일동 주민센터</td>\n",
       "      <td>서울특별시 강동구 아리수로93길 9-14</td>\n",
       "      <td>37.564942</td>\n",
       "      <td>127.173915</td>\n",
       "      <td>11</td>\n",
       "    </tr>\n",
       "  </tbody>\n",
       "</table>\n",
       "<p>424 rows × 5 columns</p>\n",
       "</div>"
      ],
      "text/plain": [
       "          주민센터명                      주소         위도          경도  200m내버스정류장개수\n",
       "0    청운효자동 주민센터       서울특별시 종로구 자하문로 92  37.584083  126.970636             4\n",
       "1      사직동 주민센터       서울특별시 종로구 사직로9길 1  37.576191  126.968829             7\n",
       "..          ...                     ...        ...         ...           ...\n",
       "422   천호3동 주민센터     서울특별시 강동구 진황도로23길 7  37.539519  127.129328             4\n",
       "423    강일동 주민센터  서울특별시 강동구 아리수로93길 9-14  37.564942  127.173915            11\n",
       "\n",
       "[424 rows x 5 columns]"
      ]
     },
     "execution_count": 128,
     "metadata": {},
     "output_type": "execute_result"
    }
   ],
   "source": [
    "df['200m내버스정류장개수'] = 0 \n",
    "df = find_bus_cnt(df, df_bus,'200m내버스정류장개수' )\n",
    "df"
   ]
  },
  {
   "cell_type": "code",
   "execution_count": 134,
   "id": "3f0b718c",
   "metadata": {},
   "outputs": [
    {
     "data": {
      "text/html": [
       "<div>\n",
       "<style scoped>\n",
       "    .dataframe tbody tr th:only-of-type {\n",
       "        vertical-align: middle;\n",
       "    }\n",
       "\n",
       "    .dataframe tbody tr th {\n",
       "        vertical-align: top;\n",
       "    }\n",
       "\n",
       "    .dataframe thead th {\n",
       "        text-align: right;\n",
       "    }\n",
       "</style>\n",
       "<table border=\"1\" class=\"dataframe\">\n",
       "  <thead>\n",
       "    <tr style=\"text-align: right;\">\n",
       "      <th></th>\n",
       "      <th>주민센터명</th>\n",
       "      <th>주소</th>\n",
       "      <th>위도</th>\n",
       "      <th>경도</th>\n",
       "    </tr>\n",
       "  </thead>\n",
       "  <tbody>\n",
       "    <tr>\n",
       "      <th>0</th>\n",
       "      <td>청운효자동 주민센터</td>\n",
       "      <td>서울특별시 종로구 자하문로 92</td>\n",
       "      <td>37.584083</td>\n",
       "      <td>126.970636</td>\n",
       "    </tr>\n",
       "    <tr>\n",
       "      <th>1</th>\n",
       "      <td>사직동 주민센터</td>\n",
       "      <td>서울특별시 종로구 사직로9길 1</td>\n",
       "      <td>37.576191</td>\n",
       "      <td>126.968829</td>\n",
       "    </tr>\n",
       "    <tr>\n",
       "      <th>...</th>\n",
       "      <td>...</td>\n",
       "      <td>...</td>\n",
       "      <td>...</td>\n",
       "      <td>...</td>\n",
       "    </tr>\n",
       "    <tr>\n",
       "      <th>422</th>\n",
       "      <td>천호3동 주민센터</td>\n",
       "      <td>서울특별시 강동구 진황도로23길 7</td>\n",
       "      <td>37.539519</td>\n",
       "      <td>127.129328</td>\n",
       "    </tr>\n",
       "    <tr>\n",
       "      <th>423</th>\n",
       "      <td>강일동 주민센터</td>\n",
       "      <td>서울특별시 강동구 아리수로93길 9-14</td>\n",
       "      <td>37.564942</td>\n",
       "      <td>127.173915</td>\n",
       "    </tr>\n",
       "  </tbody>\n",
       "</table>\n",
       "<p>424 rows × 4 columns</p>\n",
       "</div>"
      ],
      "text/plain": [
       "          주민센터명                      주소         위도          경도\n",
       "0    청운효자동 주민센터       서울특별시 종로구 자하문로 92  37.584083  126.970636\n",
       "1      사직동 주민센터       서울특별시 종로구 사직로9길 1  37.576191  126.968829\n",
       "..          ...                     ...        ...         ...\n",
       "422   천호3동 주민센터     서울특별시 강동구 진황도로23길 7  37.539519  127.129328\n",
       "423    강일동 주민센터  서울특별시 강동구 아리수로93길 9-14  37.564942  127.173915\n",
       "\n",
       "[424 rows x 4 columns]"
      ]
     },
     "execution_count": 134,
     "metadata": {},
     "output_type": "execute_result"
    }
   ],
   "source": [
    "df"
   ]
  }
 ],
 "metadata": {
  "kernelspec": {
   "display_name": "Python 3 (ipykernel)",
   "language": "python",
   "name": "python3"
  },
  "language_info": {
   "codemirror_mode": {
    "name": "ipython",
    "version": 3
   },
   "file_extension": ".py",
   "mimetype": "text/x-python",
   "name": "python",
   "nbconvert_exporter": "python",
   "pygments_lexer": "ipython3",
   "version": "3.9.7"
  }
 },
 "nbformat": 4,
 "nbformat_minor": 5
}
